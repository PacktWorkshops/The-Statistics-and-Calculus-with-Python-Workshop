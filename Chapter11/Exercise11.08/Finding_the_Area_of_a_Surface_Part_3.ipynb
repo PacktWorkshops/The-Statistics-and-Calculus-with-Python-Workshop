{
 "cells": [
  {
   "cell_type": "code",
   "execution_count": 1,
   "metadata": {},
   "outputs": [
    {
     "name": "stdout",
     "output_type": "stream",
     "text": [
      "Area of surface: 42.80527549685105\n"
     ]
    }
   ],
   "source": [
    "from math import sin, cos,sqrt\n",
    "\n",
    "def surface(x,y):\n",
    "    return sqrt(1+sin(x)*cos(y))\n",
    "\n",
    "def cross(u,v):\n",
    "    \"\"\"Returns the cross product of 2 3D vectors\n",
    "    [[i,j,k],\n",
    "     [1,0,dz/dx],\n",
    "     [0,1,dz,dy]]\n",
    "     \n",
    "     cross([1,-1,2],[2,3,-5])\n",
    "     >>> [-1, -9, 5]\n",
    "     \"\"\"\n",
    "    return [u[1]*v[2]-v[1]*u[2],\n",
    "            -u[0]*v[2]+v[0]*u[2],\n",
    "            u[0]*v[1]-v[0]*u[1]]\n",
    "\n",
    "#print(\"Cross:\",cross([2,3,4],[5,6,7]))\n",
    "\n",
    "def mag(vec):\n",
    "    \"\"\"Returns the magnitude of a 3D vector\"\"\"\n",
    "    return sqrt(vec[0]**2+vec[1]**2+vec[2]**2)\n",
    "\n",
    "    \n",
    "def partial_d(f,u,v,w,num):\n",
    "    \"\"\"returns the partial derivative of f\n",
    "    with respect to u at (v,w)\"\"\"\n",
    "    delta_u = 1/100000\n",
    "    try:\n",
    "        if u == 'x':\n",
    "            return (f(v+delta_u,w) - f(v,w))/delta_u\n",
    "        else:\n",
    "            return (f(v,w+delta_u) - f(v,w))/delta_u\n",
    "    except ValueError:\n",
    "        pass\n",
    "\n",
    "def area(f,ax,bx,ay,by,num=1000):\n",
    "    \"\"\"Returns area of parallelogram formed by\n",
    "        vectors with given partial derivs\"\"\"\n",
    "    running_sum = 0\n",
    "    dx = (bx-ax)/num\n",
    "    dy = (by-ay)/num\n",
    "    for i in range(num):\n",
    "        for j in range(num):\n",
    "            x = ax+i*dx\n",
    "            y = ay+j*dy\n",
    "            dz_dx=partial_d(f,'x',x,y,num)\n",
    "            dz_dy=partial_d(f,'y',x,y,num)\n",
    "            #print(dz_dx,dz_dy)\n",
    "            try:\n",
    "                running_sum += mag(cross([1,0,dz_dx],[0,1,dz_dy]))*dx*dy\n",
    "            except ValueError:\n",
    "                pass\n",
    "    return running_sum\n",
    "\n",
    "\n",
    "print(\"Area of surface:\",area(surface,0,6.28,0,6.28))\n"
   ]
  },
  {
   "cell_type": "code",
   "execution_count": null,
   "metadata": {},
   "outputs": [],
   "source": []
  }
 ],
 "metadata": {
  "kernelspec": {
   "display_name": "Python 3",
   "language": "python",
   "name": "python3"
  },
  "language_info": {
   "codemirror_mode": {
    "name": "ipython",
    "version": 3
   },
   "file_extension": ".py",
   "mimetype": "text/x-python",
   "name": "python",
   "nbconvert_exporter": "python",
   "pygments_lexer": "ipython3",
   "version": "3.7.3"
  }
 },
 "nbformat": 4,
 "nbformat_minor": 2
}
