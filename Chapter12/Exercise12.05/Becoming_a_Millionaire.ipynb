{
 "cells": [
  {
   "cell_type": "code",
   "execution_count": 1,
   "metadata": {},
   "outputs": [
    {
     "name": "stdout",
     "output_type": "stream",
     "text": [
      "10 2225.34584963113\n",
      "20 4952.164150470476\n",
      "30 11020.277938941583\n",
      "40 24523.929773205105\n",
      "50 54574.22533744746\n"
     ]
    }
   ],
   "source": [
    "def amount(p0,rate,t,comps):\n",
    "    \"\"\"Returns the amount after t\n",
    "    years starting at p0 and growing\n",
    "    at the given rate per year\n",
    "    compounded comps times per year\"\"\"\n",
    "    for i in range(int(t*comps)):\n",
    "        p0 += p0*rate/comps\n",
    "    return p0\n",
    "\n",
    "def average(a,b):\n",
    "    return (a+b)/2\n",
    "\n",
    "def bin_search(f,lower,upper,target):\n",
    "    for i in range(20):\n",
    "        avg = average(lower,upper)\n",
    "        #Be sure to change this line\n",
    "        #if the principal, rate or \n",
    "        #compounding changes:\n",
    "        guess = f(1000,0.08,avg,365)\n",
    "        if guess == target:\n",
    "            return guess\n",
    "        if guess > target:\n",
    "            upper = avg\n",
    "        else:\n",
    "            lower = avg\n",
    "    return avg\n",
    "\n",
    "for i in [10,20,30,40,50]:\n",
    "    print(i,amount(1000,0.08,i,365))"
   ]
  },
  {
   "cell_type": "code",
   "execution_count": 2,
   "metadata": {},
   "outputs": [
    {
     "data": {
      "text/plain": [
       "2978346.0711824815"
      ]
     },
     "execution_count": 2,
     "metadata": {},
     "output_type": "execute_result"
    }
   ],
   "source": [
    "amount(1000,0.08,100,365)"
   ]
  },
  {
   "cell_type": "code",
   "execution_count": 3,
   "metadata": {},
   "outputs": [
    {
     "name": "stdout",
     "output_type": "stream",
     "text": [
      "86.3588809967041\n"
     ]
    }
   ],
   "source": [
    "print(bin_search(amount,50,100,1000000))"
   ]
  },
  {
   "cell_type": "code",
   "execution_count": 4,
   "metadata": {},
   "outputs": [],
   "source": [
    "def bin_search(f,lower,upper,target):\n",
    "    for i in range(20):\n",
    "        avg = average(lower,upper)\n",
    "        #Be sure to change this line\n",
    "        #if the principal, rate or \n",
    "        #compounding changes:\n",
    "        guess = f(10000,0.08,avg,365)\n",
    "        if guess == target:\n",
    "            return guess\n",
    "        if guess > target:\n",
    "            upper = avg\n",
    "        else:\n",
    "            lower = avg\n",
    "    return avg"
   ]
  },
  {
   "cell_type": "code",
   "execution_count": 5,
   "metadata": {},
   "outputs": [
    {
     "name": "stdout",
     "output_type": "stream",
     "text": [
      "10 22253.458496311334\n",
      "15 33196.803971077774\n",
      "20 49521.64150470513\n",
      "30 110202.77938941623\n",
      "40 245239.2977320514\n",
      "50 545742.2533744735\n",
      "60 1214465.2585152255\n"
     ]
    }
   ],
   "source": [
    "for i in [10,15,20,30,40,50,60]:\n",
    "    print(i,amount(10000,0.08,i,365))"
   ]
  },
  {
   "cell_type": "code",
   "execution_count": 6,
   "metadata": {},
   "outputs": [
    {
     "name": "stdout",
     "output_type": "stream",
     "text": [
      "57.57260322570801\n"
     ]
    }
   ],
   "source": [
    "print(bin_search(amount,50,60,1000000))"
   ]
  }
 ],
 "metadata": {
  "kernelspec": {
   "display_name": "Python 3",
   "language": "python",
   "name": "python3"
  },
  "language_info": {
   "codemirror_mode": {
    "name": "ipython",
    "version": 3
   },
   "file_extension": ".py",
   "mimetype": "text/x-python",
   "name": "python",
   "nbconvert_exporter": "python",
   "pygments_lexer": "ipython3",
   "version": "3.7.6"
  }
 },
 "nbformat": 4,
 "nbformat_minor": 2
}
