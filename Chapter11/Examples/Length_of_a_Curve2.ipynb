{
 "cells": [
  {
   "cell_type": "code",
   "execution_count": 1,
   "metadata": {},
   "outputs": [
    {
     "name": "stdout",
     "output_type": "stream",
     "text": [
      "0.9797958971132712\n",
      "-0.10050428911334564\n",
      "0.5281854841121296\n"
     ]
    }
   ],
   "source": [
    "from math import sqrt\n",
    "\n",
    "def derivative(f,x):\n",
    "    \"\"\"Returns the value of the derivative of\n",
    "    the function at a given x-value.\"\"\"\n",
    "    delta_x = 1/1000000\n",
    "    return (f(x+delta_x) - f(x))/delta_x\n",
    "\n",
    "def trap_integral(f,a,b,num):\n",
    "    \"\"\"Returns the sum of num trapezoids\n",
    "    under f between a and b\"\"\"\n",
    "    width = (b-a)/num\n",
    "    area = 0.5*width*(f(a) + f(b) + 2*sum([f(a+width*n) \\\n",
    "                                        for n in range(num)]))\n",
    "    return area\n",
    "\n",
    "#Length of a curve:\n",
    "#L = int sqrt(1+[f'(x)]**2)\n",
    "def curve_length(f,a,b,num):\n",
    "    def g(x):\n",
    "        return sqrt(1+(derivative(f,x)**2))\n",
    "    return trap_integral(g,a,b,num)\n",
    "\n",
    "def f(x):\n",
    "    return sqrt(1-x**2)\n",
    "\n",
    "print(f(0.2))\n",
    "print(derivative(f,0.1))\n",
    "print(trap_integral(f,0,0.5,10))\n",
    "#print(curve_length(f,-1,1,100))"
   ]
  },
  {
   "cell_type": "code",
   "execution_count": null,
   "metadata": {},
   "outputs": [],
   "source": []
  }
 ],
 "metadata": {
  "kernelspec": {
   "display_name": "Python 3",
   "language": "python",
   "name": "python3"
  },
  "language_info": {
   "codemirror_mode": {
    "name": "ipython",
    "version": 3
   },
   "file_extension": ".py",
   "mimetype": "text/x-python",
   "name": "python",
   "nbconvert_exporter": "python",
   "pygments_lexer": "ipython3",
   "version": "3.7.3"
  }
 },
 "nbformat": 4,
 "nbformat_minor": 2
}
