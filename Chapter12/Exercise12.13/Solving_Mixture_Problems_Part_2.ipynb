{
 "cells": [
  {
   "cell_type": "code",
   "execution_count": 3,
   "metadata": {},
   "outputs": [
    {
     "name": "stdout",
     "output_type": "stream",
     "text": [
      "183.0769053279811\n",
      "183.0769053279811\n"
     ]
    }
   ],
   "source": [
    "def salt_content1(t,frac=.001):\n",
    "    salt = 100\n",
    "    brine = 10000\n",
    "    for i in range(int(t/frac)):\n",
    "        brine += 20*frac\n",
    "        salt += 0.4*frac\n",
    "        concentration = salt/brine\n",
    "        salt_out = 10*concentration*frac\n",
    "        salt -= salt_out\n",
    "        brine -= 10*frac\n",
    "    return salt\n",
    "\n",
    "print(salt_content1(5*60))\n",
    "\n",
    "def salt_content(t,salt_0,brine_0,salt_in,brine_in,v_out,frac=.001):\n",
    "    salt = salt_0 #pounds\n",
    "    brine = brine_0 #gallons\n",
    "    for i in range(int(t/frac)):\n",
    "        brine += brine_in * frac\n",
    "        salt += salt_in* frac\n",
    "        concentration = salt/brine\n",
    "        salt_out = v_out*concentration* frac\n",
    "        salt -= salt_out\n",
    "        brine -= v_out* frac\n",
    "    return salt\n",
    "\n",
    "\n",
    "print(salt_content(300,100,10000,0.4,20,10))"
   ]
  },
  {
   "cell_type": "code",
   "execution_count": null,
   "metadata": {},
   "outputs": [],
   "source": []
  }
 ],
 "metadata": {
  "kernelspec": {
   "display_name": "Python 3",
   "language": "python",
   "name": "python3"
  },
  "language_info": {
   "codemirror_mode": {
    "name": "ipython",
    "version": 3
   },
   "file_extension": ".py",
   "mimetype": "text/x-python",
   "name": "python",
   "nbconvert_exporter": "python",
   "pygments_lexer": "ipython3",
   "version": "3.7.3"
  }
 },
 "nbformat": 4,
 "nbformat_minor": 2
}
