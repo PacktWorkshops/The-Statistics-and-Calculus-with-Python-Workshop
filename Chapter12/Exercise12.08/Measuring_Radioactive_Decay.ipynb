{
 "cells": [
  {
   "cell_type": "code",
   "execution_count": 3,
   "metadata": {},
   "outputs": [
    {
     "name": "stdout",
     "output_type": "stream",
     "text": [
      "-0.0004332169864937896\n"
     ]
    },
    {
     "data": {
      "text/plain": [
       "0.7071163910309745"
      ]
     },
     "execution_count": 3,
     "metadata": {},
     "output_type": "execute_result"
    }
   ],
   "source": [
    "from math import e\n",
    "\n",
    "def amount(p0,rate,t,comps):\n",
    "    \"\"\"Returns the amount after t\n",
    "    years starting at p0 and growing\n",
    "    at the given rate per year\n",
    "    compounded comps times per year\"\"\"\n",
    "    for i in range(int(t*comps)):\n",
    "        p0 += p0*rate/comps\n",
    "    return p0\n",
    "\n",
    "def average(a,b):\n",
    "    return (a+b)/2\n",
    "\n",
    "def pert(P,r,t):\n",
    "    return P*e**(r*t)\n",
    "\n",
    "def bin_search(f,lower,upper,target):\n",
    "    for i in range(40):\n",
    "        avg = average(lower,upper)\n",
    "        guess = f(1,avg,1600)\n",
    "        if guess == target:\n",
    "            return guess\n",
    "        if guess > target:\n",
    "            upper = avg\n",
    "        else:\n",
    "            lower = avg\n",
    "    return avg\n",
    "\n",
    "print(bin_search(pert,-2,0,0.5))\n",
    "pert(1,-0.0004332,800)"
   ]
  },
  {
   "cell_type": "code",
   "execution_count": null,
   "metadata": {},
   "outputs": [],
   "source": []
  }
 ],
 "metadata": {
  "kernelspec": {
   "display_name": "Python 3",
   "language": "python",
   "name": "python3"
  },
  "language_info": {
   "codemirror_mode": {
    "name": "ipython",
    "version": 3
   },
   "file_extension": ".py",
   "mimetype": "text/x-python",
   "name": "python",
   "nbconvert_exporter": "python",
   "pygments_lexer": "ipython3",
   "version": "3.7.3"
  }
 },
 "nbformat": 4,
 "nbformat_minor": 2
}
