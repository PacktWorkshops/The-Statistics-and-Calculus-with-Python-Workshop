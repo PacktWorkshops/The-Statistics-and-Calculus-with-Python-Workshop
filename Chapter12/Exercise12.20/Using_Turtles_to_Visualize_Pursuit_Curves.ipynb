{
 "cells": [
  {
   "cell_type": "code",
   "execution_count": null,
   "metadata": {},
   "outputs": [
    {
     "name": "stdout",
     "output_type": "stream",
     "text": [
      "y: 23.909971577576016\n"
     ]
    }
   ],
   "source": [
    "from turtle import *\n",
    "\n",
    "setworldcoordinates(-30,-30,40,40)\n",
    "\n",
    "#set up predator\n",
    "predator = Turtle()\n",
    "predator.color(\"red\")\n",
    "predator.penup()\n",
    "predator.setpos(20,0)\n",
    "predator.pendown()\n",
    "predator.speed(0)\n",
    "\n",
    "#set up prey\n",
    "prey = Turtle()\n",
    "prey.color(\"green\")\n",
    "prey.shape(\"turtle\")\n",
    "prey.setheading(90)\n",
    "prey.speed(0)\n",
    "\n",
    "def pursue():\n",
    "    inc = 0.05\n",
    "    while predator.distance(prey)>0.05:\n",
    "        #print predator.distance(prey)\n",
    "        predator.setheading(predator.towards(prey))\n",
    "        prey.forward(inc)\n",
    "        #prey.lt(.3)\n",
    "        predator.forward(1.5*inc)\n",
    "    print(\"y:\",predator.ycor())\n",
    "\n",
    "pursue()\n",
    "done()\n"
   ]
  },
  {
   "cell_type": "code",
   "execution_count": null,
   "metadata": {},
   "outputs": [],
   "source": []
  }
 ],
 "metadata": {
  "kernelspec": {
   "display_name": "Python 3",
   "language": "python",
   "name": "python3"
  },
  "language_info": {
   "codemirror_mode": {
    "name": "ipython",
    "version": 3
   },
   "file_extension": ".py",
   "mimetype": "text/x-python",
   "name": "python",
   "nbconvert_exporter": "python",
   "pygments_lexer": "ipython3",
   "version": "3.7.3"
  }
 },
 "nbformat": 4,
 "nbformat_minor": 2
}
