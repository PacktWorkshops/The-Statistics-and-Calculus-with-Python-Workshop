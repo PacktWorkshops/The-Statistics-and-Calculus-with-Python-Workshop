{
 "cells": [
  {
   "cell_type": "code",
   "execution_count": 1,
   "metadata": {},
   "outputs": [
    {
     "name": "stdout",
     "output_type": "stream",
     "text": [
      "1 19.2\n",
      "2 28.6\n",
      "3 28.2\n",
      "4 18.0\n",
      "5 -2.0\n",
      "6 -31.8\n",
      "7 -71.4\n",
      "8 -120.8\n",
      "9 -180.0\n"
     ]
    }
   ],
   "source": [
    "v = 29\n",
    "g = 9.8\n",
    "h = 0\n",
    "t = 0\n",
    "def height(v0,h0,t):\n",
    "    \"\"\"Calculates the height a projectile given the \n",
    "    initial height and velocity and the elapsed time.\"\"\"\n",
    "    v,h = v0,h0\n",
    "    for i in range(1,t+1):\n",
    "        v -= g\n",
    "        h += v\n",
    "    return h\n",
    "for j in range(1,10):\n",
    "    print(j,round(height(v,h,j),1))"
   ]
  },
  {
   "cell_type": "code",
   "execution_count": 2,
   "metadata": {},
   "outputs": [
    {
     "name": "stdout",
     "output_type": "stream",
     "text": [
      "1 21.7\n",
      "2 33.5\n",
      "3 35.6\n",
      "4 27.8\n",
      "5 10.3\n",
      "6 -17.1\n"
     ]
    }
   ],
   "source": [
    "def height(v0,h0,t):\n",
    "    \"\"\"Calculates the height a projectile given the \n",
    "    initial height and velocity and the elapsed time.\"\"\"\n",
    "    inc = 0.5\n",
    "    v,h = v0,h0\n",
    "    for i in range(int(t/inc)):\n",
    "        v -= g*inc\n",
    "        h += v*inc\n",
    "    return h\n",
    "for j in range(1,7):\n",
    "    print(j,round(height(v,h,j),1))"
   ]
  },
  {
   "cell_type": "code",
   "execution_count": 3,
   "metadata": {},
   "outputs": [
    {
     "name": "stdout",
     "output_type": "stream",
     "text": [
      "1 24.1\n",
      "2 38.4\n",
      "3 42.9\n",
      "4 37.6\n",
      "5 22.5\n",
      "6 -2.4\n"
     ]
    }
   ],
   "source": [
    "def height(v0,h0,t):\n",
    "    \"\"\"Calculates the height a projectile given the \n",
    "    initial height and velocity and the elapsed time.\"\"\"\n",
    "    inc = 0.001\n",
    "    v,h = v0,h0\n",
    "    for i in range(int(t/inc)):\n",
    "        v -= g*inc\n",
    "        h += v*inc\n",
    "    return h\n",
    "for j in range(1,7):\n",
    "    print(j,round(height(v,h,j),1))"
   ]
  },
  {
   "cell_type": "code",
   "execution_count": 5,
   "metadata": {},
   "outputs": [
    {
     "name": "stdout",
     "output_type": "stream",
     "text": [
      "5.918000000000575\n"
     ]
    }
   ],
   "source": [
    "def bin_search(f,lower,upper,target):\n",
    "    def average(a,b):\n",
    "        return (a+b)/2\n",
    "    for i in range(40):\n",
    "        avg = average(lower,upper)\n",
    "        guess = f(29,0,avg)\n",
    "        if guess == target:\n",
    "            return avg\n",
    "        if guess < target:\n",
    "            upper = avg\n",
    "        else:\n",
    "            lower = avg\n",
    "    return avg\n",
    "print(bin_search(height,5,6,0))"
   ]
  }
 ],
 "metadata": {
  "kernelspec": {
   "display_name": "Python 3",
   "language": "python",
   "name": "python3"
  },
  "language_info": {
   "codemirror_mode": {
    "name": "ipython",
    "version": 3
   },
   "file_extension": ".py",
   "mimetype": "text/x-python",
   "name": "python",
   "nbconvert_exporter": "python",
   "pygments_lexer": "ipython3",
   "version": "3.7.6"
  }
 },
 "nbformat": 4,
 "nbformat_minor": 4
}
