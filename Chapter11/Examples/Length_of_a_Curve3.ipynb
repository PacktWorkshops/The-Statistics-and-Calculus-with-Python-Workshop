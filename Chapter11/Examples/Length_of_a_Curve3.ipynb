{
 "cells": [
  {
   "cell_type": "code",
   "execution_count": 11,
   "metadata": {},
   "outputs": [],
   "source": [
    "from math import sqrt\n",
    "\n",
    "def derivative(f,x):\n",
    "    \"\"\"Returns the value of the derivative of\n",
    "    the function at a given x-value.\"\"\"\n",
    "    delta_x = 1/1000000\n",
    "    return (f(x+delta_x) - f(x))/delta_x\n",
    "\n",
    "def trap_integral(f,a,b,num):\n",
    "    \"\"\"Returns the sum of num trapezoids\n",
    "    under f between a and b\"\"\"\n",
    "    width = (b-a)/num\n",
    "    area = 0.5*width*(f(a) + f(b) + 2*sum([f(a+width*n) \\\n",
    "                                        for n in range(num)]))\n",
    "    return area\n",
    "\n",
    "#Length of a curve:\n",
    "#L = int sqrt(1+[f'(x)]**2)\n",
    "def curve_length(f,a,b,num):\n",
    "    def g(x):\n",
    "        return sqrt(1+(derivative(f,x)**2))\n",
    "    return trap_integral(g,a,b,num)\n",
    "\n",
    "def f(x):\n",
    "    return 0.7*x**5 + 1.6*x**4-2.05*x**3 -3*x**2+2.95*x+2.9\n",
    "\n",
    "def curve_length2(f,a,b,num=1000):\n",
    "    \"\"\"Returns the length of f between\n",
    "    a and b using num slices\"\"\"\n",
    "    output = 0\n",
    "    width = (b-a)/num\n",
    "    for i in range(num):\n",
    "        output += sqrt((f(a+(i+1)*width)-f(a+i*width))**2 + width**2)\n",
    "    return output"
   ]
  },
  {
   "cell_type": "code",
   "execution_count": 12,
   "metadata": {},
   "outputs": [
    {
     "name": "stdout",
     "output_type": "stream",
     "text": [
      "9.628984854276812\n"
     ]
    }
   ],
   "source": [
    "print(curve_length(f,-2,1,1000))"
   ]
  },
  {
   "cell_type": "code",
   "execution_count": 13,
   "metadata": {},
   "outputs": [
    {
     "name": "stdout",
     "output_type": "stream",
     "text": [
      "9.614118659973549\n"
     ]
    }
   ],
   "source": [
    "print(curve_length2(f,-2,1))"
   ]
  }
 ],
 "metadata": {
  "kernelspec": {
   "display_name": "Python 3",
   "language": "python",
   "name": "python3"
  },
  "language_info": {
   "codemirror_mode": {
    "name": "ipython",
    "version": 3
   },
   "file_extension": ".py",
   "mimetype": "text/x-python",
   "name": "python",
   "nbconvert_exporter": "python",
   "pygments_lexer": "ipython3",
   "version": "3.7.6"
  }
 },
 "nbformat": 4,
 "nbformat_minor": 4
}
