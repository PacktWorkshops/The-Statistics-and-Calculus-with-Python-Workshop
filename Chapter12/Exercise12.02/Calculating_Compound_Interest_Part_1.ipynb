{
 "cells": [
  {
   "cell_type": "code",
   "execution_count": 1,
   "metadata": {},
   "outputs": [
    {
     "name": "stdout",
     "output_type": "stream",
     "text": [
      "1 2112.815720771071\n",
      "2 2231.9951349686903\n",
      "3 2357.8972049231984\n",
      "4 2490.9011412619493\n",
      "5 2631.4075450724245\n"
     ]
    }
   ],
   "source": [
    "def amount(p0,rate,t,comps):\n",
    "    \"\"\"Returns the amount after t\n",
    "    years starting at p0 and growing\n",
    "    at the given rate per year\n",
    "    compounded comps times per year\"\"\"\n",
    "    for i in range(int(t*comps)):\n",
    "        p0 += p0*rate/comps\n",
    "    return p0\n",
    "\n",
    "for i in range(1,6):\n",
    "    print(i,amount(2000,0.055,i,12))"
   ]
  },
  {
   "cell_type": "code",
   "execution_count": 2,
   "metadata": {},
   "outputs": [
    {
     "name": "stdout",
     "output_type": "stream",
     "text": [
      "5 2631.4075450724245\n",
      "10 3462.1528341320413\n",
      "15 4555.167544964467\n",
      "20 5993.251123444263\n",
      "25 7885.343112872511\n",
      "30 10374.775681348801\n"
     ]
    }
   ],
   "source": [
    "for i in [5,10,15,20,25,30]:\n",
    "    print(i,amount(2000,0.055,i,12))"
   ]
  },
  {
   "cell_type": "code",
   "execution_count": 3,
   "metadata": {},
   "outputs": [
    {
     "name": "stdout",
     "output_type": "stream",
     "text": [
      "9044.814313545687\n"
     ]
    }
   ],
   "source": [
    "print(amount(2000,0.055,27.5,12))"
   ]
  },
  {
   "cell_type": "code",
   "execution_count": 4,
   "metadata": {},
   "outputs": [
    {
     "name": "stdout",
     "output_type": "stream",
     "text": [
      "8445.203624219383\n"
     ]
    }
   ],
   "source": [
    "def average(a,b):\n",
    "    return (a+b)/2\n",
    "print(amount(2000,0.055,average(25,27.5),12))"
   ]
  },
  {
   "cell_type": "code",
   "execution_count": 5,
   "metadata": {},
   "outputs": [
    {
     "data": {
      "text/plain": [
       "25.333333015441895"
      ]
     },
     "execution_count": 5,
     "metadata": {},
     "output_type": "execute_result"
    }
   ],
   "source": [
    "def bin_search(f,lower,upper,target):\n",
    "    for i in range(20):\n",
    "        avg = average(lower,upper)\n",
    "        guess = f(2000,0.055,avg,12)\n",
    "        if guess == target:\n",
    "            return guess\n",
    "        if guess > target:\n",
    "            upper = avg\n",
    "        else:\n",
    "            lower = avg\n",
    "    return avg\n",
    "\n",
    "bin_search(amount,25,30,8000)"
   ]
  },
  {
   "cell_type": "code",
   "execution_count": 6,
   "metadata": {},
   "outputs": [
    {
     "data": {
      "text/plain": [
       "8030.904658737448"
      ]
     },
     "execution_count": 6,
     "metadata": {},
     "output_type": "execute_result"
    }
   ],
   "source": [
    "amount(2000,0.055,25.334,12)"
   ]
  }
 ],
 "metadata": {
  "kernelspec": {
   "display_name": "Python 3",
   "language": "python",
   "name": "python3"
  },
  "language_info": {
   "codemirror_mode": {
    "name": "ipython",
    "version": 3
   },
   "file_extension": ".py",
   "mimetype": "text/x-python",
   "name": "python",
   "nbconvert_exporter": "python",
   "pygments_lexer": "ipython3",
   "version": "3.6.9"
  }
 },
 "nbformat": 4,
 "nbformat_minor": 2
}
