{
 "cells": [
  {
   "cell_type": "code",
   "execution_count": 1,
   "metadata": {},
   "outputs": [],
   "source": [
    "def retirement_n(current_balance, annual_salary, annual_cap, n, contrib,\n",
    "                 annual_salary_increase, employer_match, match_cap, rate):\n",
    "    '''\n",
    "    return :: retirement amount at year n\n",
    "    '''\n",
    "    \n",
    "    annual_salary_n = annual_salary*(1+annual_salary_increase)**n\n",
    "    \n",
    "    your_contrib = contrib*annual_salary_n\n",
    "    your_contrib = min(your_contrib, annual_cap)\n",
    "    employer_contrib = contrib*annual_salary_n*employer_match\n",
    "    employer_contrib = min(employer_contrib, match_cap*annual_salary_n*employer_match)\n",
    "    \n",
    "    contrib_total = your_contrib + employer_contrib\n",
    "    \n",
    "    return your_contrib, employer_contrib, current_balance + contrib_total*(1+rate)**n\n",
    "\n",
    "\n",
    "\n",
    "def retirement_total(current_balance, annual_salary, annual_cap=18000, contrib=0.05, \n",
    "                annual_salary_increase=0.02, employer_match=0.5, match_cap=0.06, rate=0.03,\n",
    "                current_age=35, plan_years=35, life_expectancy=80, fees=0, per_month=False):\n",
    "    \n",
    "    \n",
    "    i = 0\n",
    "    result = 0\n",
    "    contrib_list = []; ematch_list = []; total_list = []\n",
    "    \n",
    "    while i <= plan_years:\n",
    "        cn = retirement_n(current_balance=current_balance, annual_salary=annual_salary, \n",
    "                          annual_cap=annual_cap, n=i, \n",
    "                          contrib=contrib, match_cap=match_cap, \n",
    "                          annual_salary_increase=annual_salary_increase,\n",
    "                          employer_match=employer_match, rate=rate)\n",
    "        \n",
    "        contrib_list.append(cn[0])\n",
    "        ematch_list.append(cn[1])        \n",
    "        total_list.append(cn[2])\n",
    "        \n",
    "        result = result + cn[2]\n",
    "        i+=1\n",
    "        \n",
    "    result = result - fees\n",
    "    \n",
    "    years_payback = life_expectancy - (current_age + plan_years)\n",
    "     \n",
    "    if per_month:\n",
    "        months = 12\n",
    "    else:\n",
    "        months = 1\n",
    "    result = result / (years_payback*months)\n",
    "    print('You get back:',result)\n",
    "    \n",
    "    \n",
    "    return result, contrib_list, ematch_list, total_list"
   ]
  },
  {
   "cell_type": "code",
   "execution_count": 2,
   "metadata": {},
   "outputs": [
    {
     "name": "stdout",
     "output_type": "stream",
     "text": [
      "You get back: 3029.952393422356\n"
     ]
    }
   ],
   "source": [
    "result, contrib, ematch, total = retirement_total(current_balance=1000, plan_years=35,\n",
    "                                                  current_age=36,\n",
    "                                                  annual_salary=40000, per_month=True)"
   ]
  },
  {
   "cell_type": "code",
   "execution_count": 3,
   "metadata": {},
   "outputs": [],
   "source": [
    "from matplotlib import pyplot as plt"
   ]
  },
  {
   "cell_type": "code",
   "execution_count": 4,
   "metadata": {
    "scrolled": true
   },
   "outputs": [
    {
     "data": {
      "image/png": "[encoded data removed]",
      "text/plain": [
       "<Figure size 432x288 with 1 Axes>"
      ]
     },
     "metadata": {
      "needs_background": "light"
     },
     "output_type": "display_data"
    }
   ],
   "source": [
    "years = [i for i in range(len(total))]\n",
    "plt.plot(years, total,'-o',color='b')\n",
    "\n",
    "width=0.85\n",
    "p1 = plt.bar(years, total, width=width)\n",
    "p2 = plt.bar(years, contrib, width=width)\n",
    "p3 = plt.bar(years, ematch, width=width)\n",
    "\n",
    "plt.xlabel('Years')\n",
    "plt.ylabel('Return')\n",
    "plt.title('Retirement plan evolution')\n",
    "\n",
    "plt.legend((p1[0], p2[0], p3[0]), ('Investment returns','Contributions','Employer match'))\n",
    "plt.show()"
   ]
  }
 ],
 "metadata": {
  "kernelspec": {
   "display_name": "Python 3",
   "language": "python",
   "name": "python3"
  },
  "language_info": {
   "codemirror_mode": {
    "name": "ipython",
    "version": 3
   },
   "file_extension": ".py",
   "mimetype": "text/x-python",
   "name": "python",
   "nbconvert_exporter": "python",
   "pygments_lexer": "ipython3",
   "version": "3.7.6"
  }
 },
 "nbformat": 4,
 "nbformat_minor": 4
}
