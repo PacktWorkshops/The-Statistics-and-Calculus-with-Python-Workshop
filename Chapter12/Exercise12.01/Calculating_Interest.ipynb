{
 "cells": [
  {
   "cell_type": "code",
   "execution_count": 1,
   "metadata": {},
   "outputs": [
    {
     "name": "stdout",
     "output_type": "stream",
     "text": [
      "1 70.0\n",
      "2 140.0\n",
      "3 210.0\n",
      "4 280.0\n",
      "5 350.0\n"
     ]
    }
   ],
   "source": [
    "def amount(p0,rate,t):\n",
    "    \"\"\"Returns the amount after t\n",
    "    years starting at p0 and growing\n",
    "    at the given rate per year\"\"\"\n",
    "    return p0*rate*t\n",
    "for i in range(1,6):\n",
    "    print(i,amount(3500,0.02,i))"
   ]
  },
  {
   "cell_type": "code",
   "execution_count": 2,
   "metadata": {},
   "outputs": [
    {
     "name": "stdout",
     "output_type": "stream",
     "text": [
      "1 3570.0\n",
      "2 3641.4\n",
      "3 3714.228\n",
      "4 3788.51256\n",
      "5 3864.2828112\n"
     ]
    }
   ],
   "source": [
    "def amount(p0,rate,t,comps):\n",
    "    \"\"\"Returns the amount after t\n",
    "    years starting at p0 and growing\n",
    "    at the given rate per year\n",
    "    compounded comps times per year\"\"\"\n",
    "    for i in range(int(t*comps)):\n",
    "        p0 += p0*rate/comps\n",
    "    return p0\n",
    "for i in range(1,6):\n",
    "    print(i,amount(3500,0.02,i,1))"
   ]
  }
 ],
 "metadata": {
  "kernelspec": {
   "display_name": "Python 3",
   "language": "python",
   "name": "python3"
  },
  "language_info": {
   "codemirror_mode": {
    "name": "ipython",
    "version": 3
   },
   "file_extension": ".py",
   "mimetype": "text/x-python",
   "name": "python",
   "nbconvert_exporter": "python",
   "pygments_lexer": "ipython3",
   "version": "3.7.6"
  }
 },
 "nbformat": 4,
 "nbformat_minor": 4
}
