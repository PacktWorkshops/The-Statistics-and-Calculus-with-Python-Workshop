{
 "cells": [
  {
   "cell_type": "code",
   "execution_count": 1,
   "metadata": {},
   "outputs": [],
   "source": [
    "import numpy as np"
   ]
  },
  {
   "cell_type": "code",
   "execution_count": 2,
   "metadata": {},
   "outputs": [],
   "source": [
    "suits = ['hearts', 'diamonds', 'spades', 'clubs']\n",
    "ranks = ['Ace', '2', '3', '4', '5', '6', '7', '8', '9', '10', 'Jack', 'Queen', 'King']\n",
    "cards = [rank + '-' + suit for rank in ranks for suit in suits]"
   ]
  },
  {
   "cell_type": "code",
   "execution_count": 3,
   "metadata": {
    "scrolled": true
   },
   "outputs": [
    {
     "name": "stdout",
     "output_type": "stream",
     "text": [
      "['3-clubs' '4-diamonds' '7-hearts' '8-clubs' '10-diamonds']\n"
     ]
    }
   ],
   "source": [
    "print(np.random.choice(cards, size=5, replace=False))"
   ]
  },
  {
   "cell_type": "code",
   "execution_count": 4,
   "metadata": {},
   "outputs": [
    {
     "name": "stdout",
     "output_type": "stream",
     "text": [
      "['8-clubs' '8-diamonds' '7-clubs' '7-hearts' 'Jack-clubs']\n"
     ]
    }
   ],
   "source": [
    "print(np.random.choice(cards, size=5, replace=False)) "
   ]
  },
  {
   "cell_type": "code",
   "execution_count": 5,
   "metadata": {},
   "outputs": [],
   "source": [
    "def deal_hands():\n",
    "    drawn_cards = np.random.choice(cards, size=10, replace=False)\n",
    "    hand_1 = drawn_cards[:5].tolist()\n",
    "    hand_2 = drawn_cards[5:].tolist()\n",
    "    return hand_1, hand_2"
   ]
  },
  {
   "cell_type": "code",
   "execution_count": 6,
   "metadata": {},
   "outputs": [
    {
     "data": {
      "text/plain": [
       "(['Queen-spades', '2-hearts', 'Ace-spades', '3-spades', '5-spades'],\n",
       " ['Queen-diamonds', '4-clubs', 'King-hearts', '5-hearts', '3-clubs'])"
      ]
     },
     "execution_count": 6,
     "metadata": {},
     "output_type": "execute_result"
    }
   ],
   "source": [
    "deal_hands()"
   ]
  },
  {
   "cell_type": "code",
   "execution_count": 77,
   "metadata": {},
   "outputs": [],
   "source": [
    "def deal_hands2():\n",
    "    drawn_cards = np.random.choice(cards, size=10, replace=True)\n",
    "    hand_1 = drawn_cards[:5].tolist()\n",
    "    hand_2 = drawn_cards[5:].tolist()\n",
    "    return hand_1, hand_2"
   ]
  },
  {
   "cell_type": "code",
   "execution_count": 80,
   "metadata": {},
   "outputs": [
    {
     "data": {
      "text/plain": [
       "(['Jack-hearts', '4-clubs', 'Queen-diamonds', '3-hearts', '6-spades'],\n",
       " ['Jack-clubs', '5-spades', '3-clubs', 'Jack-hearts', '2-clubs'])"
      ]
     },
     "execution_count": 80,
     "metadata": {},
     "output_type": "execute_result"
    }
   ],
   "source": [
    "np.random.seed(2)\n",
    "deal_hands2()"
   ]
  },
  {
   "cell_type": "code",
   "execution_count": null,
   "metadata": {},
   "outputs": [],
   "source": []
  },
  {
   "cell_type": "code",
   "execution_count": null,
   "metadata": {},
   "outputs": [],
   "source": []
  }
 ],
 "metadata": {
  "kernelspec": {
   "display_name": "Python 3",
   "language": "python",
   "name": "python3"
  },
  "language_info": {
   "codemirror_mode": {
    "name": "ipython",
    "version": 3
   },
   "file_extension": ".py",
   "mimetype": "text/x-python",
   "name": "python",
   "nbconvert_exporter": "python",
   "pygments_lexer": "ipython3",
   "version": "3.7.5"
  }
 },
 "nbformat": 4,
 "nbformat_minor": 2
}
