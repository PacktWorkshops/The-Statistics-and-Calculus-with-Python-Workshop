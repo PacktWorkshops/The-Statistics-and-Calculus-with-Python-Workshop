{
 "cells": [
  {
   "cell_type": "code",
   "execution_count": 1,
   "metadata": {},
   "outputs": [
    {
     "name": "stdout",
     "output_type": "stream",
     "text": [
      "Y: 23.997299988652507\n",
      "dist: 5.0\n",
      "towards: [0.5000110003630132, 0.8660190526287391]\n"
     ]
    }
   ],
   "source": [
    "from math import sqrt, atan2,sin,cos\n",
    "\n",
    "def dist(x1,y1,x2,y2):\n",
    "    \"\"\"Returns distance from (x1,y1) to (x2,y2)\"\"\"\n",
    "    return sqrt((x1-x2)**2 + (y1-y2)**2)\n",
    "\n",
    "def towards(x1,y1,x2,y2):\n",
    "    \"\"\"Returns unit vector in [x,y] format from point\n",
    "    1 to point 2\"\"\"\n",
    "    dx,dy = x2-x1,y2-y1\n",
    "    angle = atan2(dy,dx)\n",
    "    return [cos(angle),sin(angle)]\n",
    "\n",
    "def chase():\n",
    "    predator_x,predator_y = 20,0\n",
    "    predator_v = 1.5 #prey is 1\n",
    "    prey_x,prey_y = 0,0\n",
    "    inc = 0.001\n",
    "    while dist(predator_x,predator_y,prey_x,prey_y) > 0.001:\n",
    "        prey_y += 1*inc\n",
    "        p_vec = towards(predator_x,predator_y,\n",
    "                        prey_x,prey_y)\n",
    "        predator_x += predator_v*p_vec[0]*inc\n",
    "        predator_y += predator_v*p_vec[1]*inc\n",
    "        #print(dist(predator_x,predator_y,prey_x,prey_y))\n",
    "    return predator_y\n",
    "\n",
    "y = chase()\n",
    "print(\"Y:\",y)\n",
    "print(\"dist:\",dist(1,1,4,5))\n",
    "print(\"towards:\",towards(1,1,2,2.732))"
   ]
  },
  {
   "cell_type": "code",
   "execution_count": null,
   "metadata": {},
   "outputs": [],
   "source": []
  }
 ],
 "metadata": {
  "kernelspec": {
   "display_name": "Python 3",
   "language": "python",
   "name": "python3"
  },
  "language_info": {
   "codemirror_mode": {
    "name": "ipython",
    "version": 3
   },
   "file_extension": ".py",
   "mimetype": "text/x-python",
   "name": "python",
   "nbconvert_exporter": "python",
   "pygments_lexer": "ipython3",
   "version": "3.7.3"
  }
 },
 "nbformat": 4,
 "nbformat_minor": 2
}
