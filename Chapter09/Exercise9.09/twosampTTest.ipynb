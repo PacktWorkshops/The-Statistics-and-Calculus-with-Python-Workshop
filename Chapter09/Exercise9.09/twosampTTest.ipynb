{
 "cells": [
  {
   "cell_type": "code",
   "execution_count": 6,
   "metadata": {},
   "outputs": [],
   "source": [
    "import scipy.stats as st\n",
    "import numpy as np\n"
   ]
  },
  {
   "cell_type": "code",
   "execution_count": 7,
   "metadata": {},
   "outputs": [
    {
     "name": "stdout",
     "output_type": "stream",
     "text": [
      "Sample mean 1: 50.54824784997514\n",
      "Sample mean 2: 97.95949096047315\n",
      "Ttest_indResult(statistic=-33.72952277672986, pvalue=6.3445365508664585e-84)\n"
     ]
    }
   ],
   "source": [
    "# Randomly Sample from Normal Distribution mu=50 and st_dev = 10\n",
    "np.random.seed(16172)\n",
    "sample1 = np.random.normal(50, 10, 100)\n",
    "sample2 = np.random.normal(100,10,100)\n",
    "print(f'Sample mean 1: {np.mean(sample1)}')\n",
    "print(f'Sample mean 2: {np.mean(sample2)}')\n",
    "\n",
    "# Two Tailed - Are the means between the two samples different?\n",
    "two_tail_results = st.ttest_ind(sample1, sample2, equal_var=False)\n",
    "print(two_tail_results)\n",
    "#pvalue less than 0.05, sample means are significantly different\n",
    "#Lower Tailed test, you want to test to see if sample 1 is less than sample 2 (lower mean first)\n",
    "#since pvalue/2 is less than 0.05 and test statistic is negative, sample mean 1 is significantly lower than sample mean 2\n"
   ]
  },
  {
   "cell_type": "code",
   "execution_count": 8,
   "metadata": {},
   "outputs": [
    {
     "name": "stdout",
     "output_type": "stream",
     "text": [
      "Ttest_indResult(statistic=33.72952277672986, pvalue=6.3445365508664585e-84)\n"
     ]
    }
   ],
   "source": [
    "#for upper tailed, put higher mean first\n",
    "upper_tail = st.ttest_ind(sample2, sample1, equal_var=False)\n",
    "print(upper_tail)\n",
    "#since pvalue/2 is less than 0.05 and test statistic is positive, sample mean 2 is significantly higher than sample mean 1"
   ]
  },
  {
   "cell_type": "code",
   "execution_count": null,
   "metadata": {},
   "outputs": [],
   "source": []
  }
 ],
 "metadata": {
  "kernelspec": {
   "display_name": "Python 3",
   "language": "python",
   "name": "python3"
  },
  "language_info": {
   "codemirror_mode": {
    "name": "ipython",
    "version": 3
   },
   "file_extension": ".py",
   "mimetype": "text/x-python",
   "name": "python",
   "nbconvert_exporter": "python",
   "pygments_lexer": "ipython3",
   "version": "3.7.6"
  }
 },
 "nbformat": 4,
 "nbformat_minor": 4
}
