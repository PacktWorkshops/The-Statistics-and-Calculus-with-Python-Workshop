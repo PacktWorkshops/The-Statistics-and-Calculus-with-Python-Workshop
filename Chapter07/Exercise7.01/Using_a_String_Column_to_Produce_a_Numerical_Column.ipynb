{
 "cells": [
  {
   "cell_type": "code",
   "execution_count": 1,
   "metadata": {},
   "outputs": [],
   "source": [
    "import pandas as pd\n",
    "import numpy as np"
   ]
  },
  {
   "cell_type": "code",
   "execution_count": 2,
   "metadata": {},
   "outputs": [],
   "source": [
    "# Run this cell to load and prepare the dataset previous to the exercise\n",
    "%run \"../scripts/data_preparation.py\""
   ]
  },
  {
   "cell_type": "code",
   "execution_count": 3,
   "metadata": {},
   "outputs": [],
   "source": [
    "games2 = games.copy()"
   ]
  },
  {
   "cell_type": "code",
   "execution_count": 4,
   "metadata": {},
   "outputs": [
    {
     "data": {
      "text/plain": [
       "id\n",
       "284921427    DA, NL, EN, FI, FR, DE, IT, JA, KO, NB, PL, PT...\n",
       "284926400                                                   EN\n",
       "284946595                                                   EN\n",
       "285755462    DA, NL, EN, FI, FR, DE, IT, JA, KO, NB, PL, PT...\n",
       "286210009                                                   EN\n",
       "Name: languages, dtype: object"
      ]
     },
     "execution_count": 4,
     "metadata": {},
     "output_type": "execute_result"
    }
   ],
   "source": [
    "games2['languages'].head()"
   ]
  },
  {
   "cell_type": "code",
   "execution_count": 5,
   "metadata": {},
   "outputs": [],
   "source": [
    "games2['languages'] = games2['languages'].fillna('EN')"
   ]
  },
  {
   "cell_type": "code",
   "execution_count": 6,
   "metadata": {},
   "outputs": [],
   "source": [
    "list_of_languages = games2['languages'].str.split(',')"
   ]
  },
  {
   "cell_type": "code",
   "execution_count": 7,
   "metadata": {},
   "outputs": [],
   "source": [
    "games2['n_languages'] = list_of_languages.apply(lambda x: len(x))"
   ]
  },
  {
   "cell_type": "code",
   "execution_count": 8,
   "metadata": {},
   "outputs": [
    {
     "data": {
      "text/plain": [
       "id\n",
       "284921427    17\n",
       "284926400     1\n",
       "284946595     1\n",
       "285755462    17\n",
       "286210009     1\n",
       "286313771     1\n",
       "286363959     1\n",
       "286566987     1\n",
       "286682679     1\n",
       "288096268     1\n",
       "Name: n_languages, dtype: int64"
      ]
     },
     "execution_count": 8,
     "metadata": {},
     "output_type": "execute_result"
    }
   ],
   "source": [
    "games2['n_languages'].head(10)"
   ]
  }
 ],
 "metadata": {
  "kernelspec": {
   "display_name": "Python 3",
   "language": "python",
   "name": "python3"
  },
  "language_info": {
   "codemirror_mode": {
    "name": "ipython",
    "version": 3
   },
   "file_extension": ".py",
   "mimetype": "text/x-python",
   "name": "python",
   "nbconvert_exporter": "python",
   "pygments_lexer": "ipython3",
   "version": "3.7.4"
  }
 },
 "nbformat": 4,
 "nbformat_minor": 2
}
