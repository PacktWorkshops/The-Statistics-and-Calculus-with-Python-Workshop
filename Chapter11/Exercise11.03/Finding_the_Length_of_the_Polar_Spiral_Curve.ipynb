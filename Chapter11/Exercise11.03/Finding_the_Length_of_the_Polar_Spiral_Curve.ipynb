{
 "cells": [
  {
   "cell_type": "code",
   "execution_count": 1,
   "metadata": {},
   "outputs": [],
   "source": [
    "from math import sqrt,cos,pi\n",
    "\n",
    "def opposite(a,b,C):\n",
    "    \"\"\"Returns the side opposite the given angle in\n",
    "    a triangle using the Law of Cosines\n",
    "    Enter side, side, angle\"\"\"\n",
    "    c = sqrt(a**2 + b**2 - 2*a*b*cos(C))\n",
    "    return c\n",
    "\n",
    "def spiral(r,a,b,step=0.0001):\n",
    "    \"\"\"Returns length of spiral r from\n",
    "    a to b taking given step size\"\"\"\n",
    "    length = 0\n",
    "    theta = a\n",
    "    while theta < b:\n",
    "        length += opposite(r(theta),r(theta+step),step)\n",
    "        theta += step\n",
    "    return length\n",
    "\n",
    "def r(theta):\n",
    "    return 3 + 0.1724*theta"
   ]
  },
  {
   "cell_type": "code",
   "execution_count": 2,
   "metadata": {
    "scrolled": true
   },
   "outputs": [
    {
     "name": "stdout",
     "output_type": "stream",
     "text": [
      "3.0 15.998653763493127\n"
     ]
    }
   ],
   "source": [
    "print(r(0),r(24*pi))"
   ]
  },
  {
   "cell_type": "code",
   "execution_count": 3,
   "metadata": {},
   "outputs": [
    {
     "data": {
      "text/plain": [
       "716.3778471288748"
      ]
     },
     "execution_count": 3,
     "metadata": {},
     "output_type": "execute_result"
    }
   ],
   "source": [
    "spiral(r,0,2*pi*12)"
   ]
  }
 ],
 "metadata": {
  "kernelspec": {
   "display_name": "Python 3",
   "language": "python",
   "name": "python3"
  },
  "language_info": {
   "codemirror_mode": {
    "name": "ipython",
    "version": 3
   },
   "file_extension": ".py",
   "mimetype": "text/x-python",
   "name": "python",
   "nbconvert_exporter": "python",
   "pygments_lexer": "ipython3",
   "version": "3.7.6"
  }
 },
 "nbformat": 4,
 "nbformat_minor": 4
}
