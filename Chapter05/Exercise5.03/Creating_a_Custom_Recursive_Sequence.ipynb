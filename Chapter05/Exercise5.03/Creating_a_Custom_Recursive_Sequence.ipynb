{
 "cells": [
  {
   "cell_type": "code",
   "execution_count": 1,
   "metadata": {},
   "outputs": [],
   "source": [
    "def p_n(n):\n",
    "    if n < 1:\n",
    "        return -1\n",
    "    elif n == 1:\n",
    "        return 1\n",
    "    elif n == 2:\n",
    "        return 7\n",
    "    elif n == 3:\n",
    "        return 2\n",
    "    else:\n",
    "        pn = (3*p_n(n-2) - p_n(n-1) )/ (p_n(n-3) + 1)\n",
    "        return pn"
   ]
  },
  {
   "cell_type": "code",
   "execution_count": 2,
   "metadata": {},
   "outputs": [
    {
     "name": "stdout",
     "output_type": "stream",
     "text": [
      "1\n",
      "7\n",
      "2\n",
      "9.5\n",
      "-0.4375\n",
      "9.645833333333334\n",
      "-1.0436507936507937\n",
      "53.29982363315697\n",
      "-5.30073825572847\n",
      "-3784.586609737289\n"
     ]
    }
   ],
   "source": [
    "for i in range(1,11):\n",
    "    print(p_n(i))"
   ]
  },
  {
   "cell_type": "code",
   "execution_count": 3,
   "metadata": {},
   "outputs": [],
   "source": [
    "from matplotlib import pyplot as plt"
   ]
  },
  {
   "cell_type": "code",
   "execution_count": 7,
   "metadata": {},
   "outputs": [
    {
     "data": {
      "image/png": "[encoded data removed]",
      "text/plain": [
       "<Figure size 432x288 with 1 Axes>"
      ]
     },
     "metadata": {
      "needs_background": "light"
     },
     "output_type": "display_data"
    }
   ],
   "source": [
    "plist = []\n",
    "for i in range(1,40):\n",
    "    plist.append(p_n(i))\n",
    "    \n",
    "plt.plot(plist, linestyle='--', marker='o', color='b')\n",
    "plt.show()\n"
   ]
  },
  {
   "cell_type": "code",
   "execution_count": 5,
   "metadata": {},
   "outputs": [],
   "source": [
    "###          ###\n",
    "##            ##\n",
    "# memoization #\n",
    "##           ##\n",
    "###         ###\n",
    "\n",
    "memo = {}\n",
    "def p_n(n):\n",
    "    if memo.get(n):\n",
    "        return memo.get(n)\n",
    "    else:\n",
    "        if n < 1:\n",
    "            memo[n] = -1\n",
    "            return -1\n",
    "        elif n == 1:\n",
    "            memo[n] = 1\n",
    "            return 1\n",
    "        elif n == 2:\n",
    "            memo[n] = 7\n",
    "            return 7\n",
    "        elif n == 3:\n",
    "            memo[n] = 2\n",
    "            return 2\n",
    "        else:\n",
    "            #while True:\n",
    "            #yield\n",
    "            pn = (3*p_n(n-2) - p_n(n-1) )/ (p_n(n-3) + 1)\n",
    "            memo[n] = pn\n",
    "            return pn"
   ]
  }
 ],
 "metadata": {
  "kernelspec": {
   "display_name": "Python 3",
   "language": "python",
   "name": "python3"
  },
  "language_info": {
   "codemirror_mode": {
    "name": "ipython",
    "version": 3
   },
   "file_extension": ".py",
   "mimetype": "text/x-python",
   "name": "python",
   "nbconvert_exporter": "python",
   "pygments_lexer": "ipython3",
   "version": "3.7.5"
  }
 },
 "nbformat": 4,
 "nbformat_minor": 2
}
