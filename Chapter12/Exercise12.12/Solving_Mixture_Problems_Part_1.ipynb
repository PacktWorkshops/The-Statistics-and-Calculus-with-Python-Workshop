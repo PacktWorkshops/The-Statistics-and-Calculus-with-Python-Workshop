{
 "cells": [
  {
   "cell_type": "code",
   "execution_count": 6,
   "metadata": {},
   "outputs": [
    {
     "name": "stdout",
     "output_type": "stream",
     "text": [
      "38 199 469.2592152141211\n",
      "38999 198.99999999966812 470.74539697793307\n"
     ]
    }
   ],
   "source": [
    "def salt_content(t):\n",
    "    salt = 18 #pounds\n",
    "    brine = 82 #gallons\n",
    "    for i in range(t):\n",
    "        brine += 5\n",
    "        salt += 15\n",
    "        concentration = salt/brine\n",
    "        salt_out = 2*concentration\n",
    "        salt -= salt_out\n",
    "        brine -= 2\n",
    "    print(i,brine,salt)\n",
    "salt_content(39)\n",
    "\n",
    "def salt_content(t,frac=0.001):\n",
    "    salt = 18 #pounds\n",
    "    brine = 82 #gallons\n",
    "    for i in range(int(t/frac)):\n",
    "        brine += 5*frac\n",
    "        salt += 15*frac\n",
    "        concentration = salt/brine\n",
    "        salt_out = 2*concentration*frac\n",
    "        salt -= salt_out\n",
    "        brine -= 2*frac\n",
    "    print(i,brine,salt)\n",
    "salt_content(39)"
   ]
  },
  {
   "cell_type": "code",
   "execution_count": null,
   "metadata": {},
   "outputs": [],
   "source": []
  }
 ],
 "metadata": {
  "kernelspec": {
   "display_name": "Python 3",
   "language": "python",
   "name": "python3"
  },
  "language_info": {
   "codemirror_mode": {
    "name": "ipython",
    "version": 3
   },
   "file_extension": ".py",
   "mimetype": "text/x-python",
   "name": "python",
   "nbconvert_exporter": "python",
   "pygments_lexer": "ipython3",
   "version": "3.7.6"
  }
 },
 "nbformat": 4,
 "nbformat_minor": 4
}
