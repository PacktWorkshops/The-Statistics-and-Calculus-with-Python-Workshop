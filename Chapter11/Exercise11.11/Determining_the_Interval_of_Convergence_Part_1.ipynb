{
 "cells": [
  {
   "cell_type": "code",
   "execution_count": 1,
   "metadata": {},
   "outputs": [
    {
     "name": "stdout",
     "output_type": "stream",
     "text": [
      "-10 Infinity\n",
      "-9 Infinity\n",
      "-8 Infinity\n",
      "-7 Infinity\n",
      "-6 Infinity\n",
      "-5 Infinity\n",
      "-4 249999.75\n",
      "-3 0.0\n",
      "-2 -0.25\n",
      "-1 Infinity\n",
      "0 Infinity\n",
      "1 Infinity\n",
      "2 Infinity\n",
      "3 Infinity\n",
      "4 Infinity\n",
      "5 Infinity\n",
      "6 Infinity\n",
      "7 Infinity\n",
      "8 Infinity\n",
      "9 Infinity\n",
      "10 Infinity\n"
     ]
    }
   ],
   "source": [
    "def mystery_sum(x):\n",
    "    try:\n",
    "        return sum([(((-1)**n)*n)/(4*n)*(x+3)**n for n in range(1,1000000)])\n",
    "    except OverflowError:\n",
    "        return \"Infinity\"\n",
    "\n",
    "for x in range(-10,11):\n",
    "    print(x,mystery_sum(x))\n"
   ]
  },
  {
   "cell_type": "code",
   "execution_count": null,
   "metadata": {},
   "outputs": [],
   "source": []
  }
 ],
 "metadata": {
  "kernelspec": {
   "display_name": "Python 3",
   "language": "python",
   "name": "python3"
  },
  "language_info": {
   "codemirror_mode": {
    "name": "ipython",
    "version": 3
   },
   "file_extension": ".py",
   "mimetype": "text/x-python",
   "name": "python",
   "nbconvert_exporter": "python",
   "pygments_lexer": "ipython3",
   "version": "3.7.3"
  }
 },
 "nbformat": 4,
 "nbformat_minor": 2
}
