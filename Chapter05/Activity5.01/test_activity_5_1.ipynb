{
 "cells": [
  {
   "cell_type": "code",
   "execution_count": 2,
   "metadata": {},
   "outputs": [
    {
     "name": "stderr",
     "output_type": "stream",
     "text": [
      ".."
     ]
    },
    {
     "name": "stdout",
     "output_type": "stream",
     "text": [
      "You get back: 465.5304381553398\n"
     ]
    },
    {
     "name": "stderr",
     "output_type": "stream",
     "text": [
      "\n",
      "----------------------------------------------------------------------\n",
      "Ran 2 tests in 0.006s\n",
      "\n",
      "OK\n"
     ]
    }
   ],
   "source": [
    "import unittest\n",
    "import import_ipynb\n",
    "from Calculate_Your_Retirement_Plan_Using_Series import *\n",
    "\n",
    "class Test(unittest.TestCase):\n",
    "    \n",
    "    def test_retirement_n(self):\n",
    "        result = (2594.58988752, 1037.835955008, 15094.665152077054)\n",
    "        self.assertEqual(retirement_n(10000, 47000, 15000, 5, 0.05, 0.02, 0.5, 0.04, 0.07), result)\n",
    "        \n",
    "    def test_retirement_total(self):\n",
    "        result = (465.5304381553398,\n",
    "                  [9500.0, 9690.0, 9883.800000000001],\n",
    "                  [4750.0, 4845.0, 4941.900000000001],\n",
    "                  [15250.0, 15971.050000000001, 16728.58513])\n",
    "        self.assertEqual(retirement_total(1000, 190000, 50000, plan_years=2, life_expectancy=140), result)\n",
    "\n",
    "\n",
    "if __name__ == '__main__':\n",
    "    unittest.main(argv=['first-arg-is-ignored'], exit=False)"
   ]
  },
  {
   "cell_type": "code",
   "execution_count": null,
   "metadata": {},
   "outputs": [],
   "source": []
  }
 ],
 "metadata": {
  "kernelspec": {
   "display_name": "Python 3",
   "language": "python",
   "name": "python3"
  },
  "language_info": {
   "codemirror_mode": {
    "name": "ipython",
    "version": 3
   },
   "file_extension": ".py",
   "mimetype": "text/x-python",
   "name": "python",
   "nbconvert_exporter": "python",
   "pygments_lexer": "ipython3",
   "version": "3.7.5"
  }
 },
 "nbformat": 4,
 "nbformat_minor": 2
}
