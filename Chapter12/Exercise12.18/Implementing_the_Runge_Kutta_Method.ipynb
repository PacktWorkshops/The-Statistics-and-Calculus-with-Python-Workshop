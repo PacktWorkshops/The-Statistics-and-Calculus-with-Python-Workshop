{
 "cells": [
  {
   "cell_type": "code",
   "execution_count": null,
   "metadata": {},
   "outputs": [],
   "source": [
    "def deriv(x,y):\n",
    "    return x**2 + y**2\n",
    "\n",
    "def rk4(x0,y0,target_x,h):\n",
    "    while x0 <= target_x:\n",
    "        print(x0,y0)\n",
    "        k1 = h*deriv(x0,y0)\n",
    "        k2 = h*deriv(x0 + h/2, y0 + k1/2)\n",
    "        k3 = h*deriv(x0 + h/2, y0 + k2/2)\n",
    "        k4 = h*deriv(x0 + h, y0 + k3)\n",
    "        #These are the values that are fed back into the function:\n",
    "        y0 = y0 + (1/6)*(k1 + 2*k2 + 2*k3 + k4)\n",
    "        x0 = x0 + h\n",
    "\n",
    "rk4(0,0,1,0.2)"
   ]
  },
  {
   "cell_type": "code",
   "execution_count": null,
   "metadata": {},
   "outputs": [],
   "source": [
    "def euler(x0,y0,target_x,stepsize):\n",
    "    x,y = x0,y0\n",
    "    while x<target_x:\n",
    "        slope = deriv(x, y)\n",
    "        x += stepsize\n",
    "        y += stepsize*slope\n",
    "    return y\n",
    "\n",
    "print(euler(0, 0, 1, 0.2))"
   ]
  },
  {
   "cell_type": "code",
   "execution_count": null,
   "metadata": {},
   "outputs": [],
   "source": [
    "print(euler(0, 0, 1, 0.001))"
   ]
  }
 ],
 "metadata": {
  "kernelspec": {
   "display_name": "Python 3",
   "language": "python",
   "name": "python3"
  },
  "language_info": {
   "codemirror_mode": {
    "name": "ipython",
    "version": 3
   },
   "file_extension": ".py",
   "mimetype": "text/x-python",
   "name": "python",
   "nbconvert_exporter": "python",
   "pygments_lexer": "ipython3",
   "version": "3.7.6"
  }
 },
 "nbformat": 4,
 "nbformat_minor": 4
}
