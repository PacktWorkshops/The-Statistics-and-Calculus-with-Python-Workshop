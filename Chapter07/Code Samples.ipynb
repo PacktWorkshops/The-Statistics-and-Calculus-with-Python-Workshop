{
 "cells": [
  {
   "cell_type": "markdown",
   "metadata": {},
   "source": [
    "# Chapter 7 - Doing Basic Statistics with Python"
   ]
  },
  {
   "cell_type": "code",
   "execution_count": 1,
   "metadata": {},
   "outputs": [],
   "source": [
    "import pandas as pd\n",
    "import numpy as np\n",
    "import matplotlib.pyplot as plt\n",
    "import seaborn as sns\n",
    "\n",
    "# line to allow the plots to be showed in the Jupyter notebook\n",
    "%matplotlib inline"
   ]
  },
  {
   "cell_type": "markdown",
   "metadata": {},
   "source": [
    "## 7.1 Data Preparation"
   ]
  },
  {
   "cell_type": "code",
   "execution_count": 2,
   "metadata": {},
   "outputs": [],
   "source": [
    "games = pd.read_csv('data/appstore_games.csv')"
   ]
  },
  {
   "cell_type": "code",
   "execution_count": 3,
   "metadata": {},
   "outputs": [
    {
     "data": {
      "text/html": [
       "<div>\n",
       "<style scoped>\n",
       "    .dataframe tbody tr th:only-of-type {\n",
       "        vertical-align: middle;\n",
       "    }\n",
       "\n",
       "    .dataframe tbody tr th {\n",
       "        vertical-align: top;\n",
       "    }\n",
       "\n",
       "    .dataframe thead th {\n",
       "        text-align: right;\n",
       "    }\n",
       "</style>\n",
       "<table border=\"1\" class=\"dataframe\">\n",
       "  <thead>\n",
       "    <tr style=\"text-align: right;\">\n",
       "      <th></th>\n",
       "      <th>URL</th>\n",
       "      <th>ID</th>\n",
       "      <th>Name</th>\n",
       "      <th>Subtitle</th>\n",
       "      <th>Icon URL</th>\n",
       "      <th>Average User Rating</th>\n",
       "      <th>User Rating Count</th>\n",
       "      <th>Price</th>\n",
       "      <th>In-app Purchases</th>\n",
       "      <th>Description</th>\n",
       "      <th>Developer</th>\n",
       "      <th>Age Rating</th>\n",
       "      <th>Languages</th>\n",
       "      <th>Size</th>\n",
       "      <th>Primary Genre</th>\n",
       "      <th>Genres</th>\n",
       "      <th>Original Release Date</th>\n",
       "      <th>Current Version Release Date</th>\n",
       "    </tr>\n",
       "  </thead>\n",
       "  <tbody>\n",
       "    <tr>\n",
       "      <th>0</th>\n",
       "      <td>https://apps.apple.com/us/app/sudoku/id284921427</td>\n",
       "      <td>284921427</td>\n",
       "      <td>Sudoku</td>\n",
       "      <td>NaN</td>\n",
       "      <td>https://is2-ssl.mzstatic.com/image/thumb/Purpl...</td>\n",
       "      <td>4.0</td>\n",
       "      <td>3553.0</td>\n",
       "      <td>2.99</td>\n",
       "      <td>NaN</td>\n",
       "      <td>Join over 21,000,000 of our fans and download ...</td>\n",
       "      <td>Mighty Mighty Good Games</td>\n",
       "      <td>4+</td>\n",
       "      <td>DA, NL, EN, FI, FR, DE, IT, JA, KO, NB, PL, PT...</td>\n",
       "      <td>15853568.0</td>\n",
       "      <td>Games</td>\n",
       "      <td>Games, Strategy, Puzzle</td>\n",
       "      <td>11/07/2008</td>\n",
       "      <td>30/05/2017</td>\n",
       "    </tr>\n",
       "    <tr>\n",
       "      <th>1</th>\n",
       "      <td>https://apps.apple.com/us/app/reversi/id284926400</td>\n",
       "      <td>284926400</td>\n",
       "      <td>Reversi</td>\n",
       "      <td>NaN</td>\n",
       "      <td>https://is4-ssl.mzstatic.com/image/thumb/Purpl...</td>\n",
       "      <td>3.5</td>\n",
       "      <td>284.0</td>\n",
       "      <td>1.99</td>\n",
       "      <td>NaN</td>\n",
       "      <td>The classic game of Reversi, also known as Oth...</td>\n",
       "      <td>Kiss The Machine</td>\n",
       "      <td>4+</td>\n",
       "      <td>EN</td>\n",
       "      <td>12328960.0</td>\n",
       "      <td>Games</td>\n",
       "      <td>Games, Strategy, Board</td>\n",
       "      <td>11/07/2008</td>\n",
       "      <td>17/05/2018</td>\n",
       "    </tr>\n",
       "    <tr>\n",
       "      <th>2</th>\n",
       "      <td>https://apps.apple.com/us/app/morocco/id284946595</td>\n",
       "      <td>284946595</td>\n",
       "      <td>Morocco</td>\n",
       "      <td>NaN</td>\n",
       "      <td>https://is5-ssl.mzstatic.com/image/thumb/Purpl...</td>\n",
       "      <td>3.0</td>\n",
       "      <td>8376.0</td>\n",
       "      <td>0.00</td>\n",
       "      <td>NaN</td>\n",
       "      <td>Play the classic strategy game Othello (also k...</td>\n",
       "      <td>Bayou Games</td>\n",
       "      <td>4+</td>\n",
       "      <td>EN</td>\n",
       "      <td>674816.0</td>\n",
       "      <td>Games</td>\n",
       "      <td>Games, Board, Strategy</td>\n",
       "      <td>11/07/2008</td>\n",
       "      <td>5/09/2017</td>\n",
       "    </tr>\n",
       "    <tr>\n",
       "      <th>3</th>\n",
       "      <td>https://apps.apple.com/us/app/sudoku-free/id28...</td>\n",
       "      <td>285755462</td>\n",
       "      <td>Sudoku (Free)</td>\n",
       "      <td>NaN</td>\n",
       "      <td>https://is3-ssl.mzstatic.com/image/thumb/Purpl...</td>\n",
       "      <td>3.5</td>\n",
       "      <td>190394.0</td>\n",
       "      <td>0.00</td>\n",
       "      <td>NaN</td>\n",
       "      <td>Top 100 free app for over a year.\\nRated \"Best...</td>\n",
       "      <td>Mighty Mighty Good Games</td>\n",
       "      <td>4+</td>\n",
       "      <td>DA, NL, EN, FI, FR, DE, IT, JA, KO, NB, PL, PT...</td>\n",
       "      <td>21552128.0</td>\n",
       "      <td>Games</td>\n",
       "      <td>Games, Strategy, Puzzle</td>\n",
       "      <td>23/07/2008</td>\n",
       "      <td>30/05/2017</td>\n",
       "    </tr>\n",
       "    <tr>\n",
       "      <th>4</th>\n",
       "      <td>https://apps.apple.com/us/app/senet-deluxe/id2...</td>\n",
       "      <td>285831220</td>\n",
       "      <td>Senet Deluxe</td>\n",
       "      <td>NaN</td>\n",
       "      <td>https://is1-ssl.mzstatic.com/image/thumb/Purpl...</td>\n",
       "      <td>3.5</td>\n",
       "      <td>28.0</td>\n",
       "      <td>2.99</td>\n",
       "      <td>NaN</td>\n",
       "      <td>\"Senet Deluxe - The Ancient Game of Life and A...</td>\n",
       "      <td>RoGame Software</td>\n",
       "      <td>4+</td>\n",
       "      <td>DA, NL, EN, FR, DE, EL, IT, JA, KO, NO, PT, RU...</td>\n",
       "      <td>34689024.0</td>\n",
       "      <td>Games</td>\n",
       "      <td>Games, Strategy, Board, Education</td>\n",
       "      <td>18/07/2008</td>\n",
       "      <td>22/07/2018</td>\n",
       "    </tr>\n",
       "  </tbody>\n",
       "</table>\n",
       "</div>"
      ],
      "text/plain": [
       "                                                 URL         ID  \\\n",
       "0   https://apps.apple.com/us/app/sudoku/id284921427  284921427   \n",
       "1  https://apps.apple.com/us/app/reversi/id284926400  284926400   \n",
       "2  https://apps.apple.com/us/app/morocco/id284946595  284946595   \n",
       "3  https://apps.apple.com/us/app/sudoku-free/id28...  285755462   \n",
       "4  https://apps.apple.com/us/app/senet-deluxe/id2...  285831220   \n",
       "\n",
       "            Name Subtitle                                           Icon URL  \\\n",
       "0         Sudoku      NaN  https://is2-ssl.mzstatic.com/image/thumb/Purpl...   \n",
       "1        Reversi      NaN  https://is4-ssl.mzstatic.com/image/thumb/Purpl...   \n",
       "2        Morocco      NaN  https://is5-ssl.mzstatic.com/image/thumb/Purpl...   \n",
       "3  Sudoku (Free)      NaN  https://is3-ssl.mzstatic.com/image/thumb/Purpl...   \n",
       "4   Senet Deluxe      NaN  https://is1-ssl.mzstatic.com/image/thumb/Purpl...   \n",
       "\n",
       "   Average User Rating  User Rating Count  Price In-app Purchases  \\\n",
       "0                  4.0             3553.0   2.99              NaN   \n",
       "1                  3.5              284.0   1.99              NaN   \n",
       "2                  3.0             8376.0   0.00              NaN   \n",
       "3                  3.5           190394.0   0.00              NaN   \n",
       "4                  3.5               28.0   2.99              NaN   \n",
       "\n",
       "                                         Description  \\\n",
       "0  Join over 21,000,000 of our fans and download ...   \n",
       "1  The classic game of Reversi, also known as Oth...   \n",
       "2  Play the classic strategy game Othello (also k...   \n",
       "3  Top 100 free app for over a year.\\nRated \"Best...   \n",
       "4  \"Senet Deluxe - The Ancient Game of Life and A...   \n",
       "\n",
       "                  Developer Age Rating  \\\n",
       "0  Mighty Mighty Good Games         4+   \n",
       "1          Kiss The Machine         4+   \n",
       "2               Bayou Games         4+   \n",
       "3  Mighty Mighty Good Games         4+   \n",
       "4           RoGame Software         4+   \n",
       "\n",
       "                                           Languages        Size  \\\n",
       "0  DA, NL, EN, FI, FR, DE, IT, JA, KO, NB, PL, PT...  15853568.0   \n",
       "1                                                 EN  12328960.0   \n",
       "2                                                 EN    674816.0   \n",
       "3  DA, NL, EN, FI, FR, DE, IT, JA, KO, NB, PL, PT...  21552128.0   \n",
       "4  DA, NL, EN, FR, DE, EL, IT, JA, KO, NO, PT, RU...  34689024.0   \n",
       "\n",
       "  Primary Genre                             Genres Original Release Date  \\\n",
       "0         Games            Games, Strategy, Puzzle            11/07/2008   \n",
       "1         Games             Games, Strategy, Board            11/07/2008   \n",
       "2         Games             Games, Board, Strategy            11/07/2008   \n",
       "3         Games            Games, Strategy, Puzzle            23/07/2008   \n",
       "4         Games  Games, Strategy, Board, Education            18/07/2008   \n",
       "\n",
       "  Current Version Release Date  \n",
       "0                   30/05/2017  \n",
       "1                   17/05/2018  \n",
       "2                    5/09/2017  \n",
       "3                   30/05/2017  \n",
       "4                   22/07/2018  "
      ]
     },
     "execution_count": 3,
     "metadata": {},
     "output_type": "execute_result"
    }
   ],
   "source": [
    "games.head()"
   ]
  },
  {
   "cell_type": "code",
   "execution_count": 4,
   "metadata": {},
   "outputs": [
    {
     "data": {
      "text/plain": [
       "(17007, 18)"
      ]
     },
     "execution_count": 4,
     "metadata": {},
     "output_type": "execute_result"
    }
   ],
   "source": [
    "games.shape"
   ]
  },
  {
   "cell_type": "code",
   "execution_count": 5,
   "metadata": {},
   "outputs": [
    {
     "data": {
      "text/plain": [
       "{'URL': 'url',\n",
       " 'ID': 'id',\n",
       " 'Name': 'name',\n",
       " 'Subtitle': 'subtitle',\n",
       " 'Icon URL': 'icon_url',\n",
       " 'Average User Rating': 'average_user_rating',\n",
       " 'User Rating Count': 'user_rating_count',\n",
       " 'Price': 'price',\n",
       " 'In-app Purchases': 'in-app_purchases',\n",
       " 'Description': 'description',\n",
       " 'Developer': 'developer',\n",
       " 'Age Rating': 'age_rating',\n",
       " 'Languages': 'languages',\n",
       " 'Size': 'size',\n",
       " 'Primary Genre': 'primary_genre',\n",
       " 'Genres': 'genres',\n",
       " 'Original Release Date': 'original_release_date',\n",
       " 'Current Version Release Date': 'current_version_release_date'}"
      ]
     },
     "execution_count": 5,
     "metadata": {},
     "output_type": "execute_result"
    }
   ],
   "source": [
    "original_colums_dict = {x: x.lower().replace(' ','_') for x in games.columns}\n",
    "original_colums_dict"
   ]
  },
  {
   "cell_type": "code",
   "execution_count": 6,
   "metadata": {},
   "outputs": [],
   "source": [
    "games.rename(\n",
    "    columns = original_colums_dict,\n",
    "    inplace = True\n",
    ")"
   ]
  },
  {
   "cell_type": "code",
   "execution_count": 7,
   "metadata": {},
   "outputs": [],
   "source": [
    "games.set_index(\n",
    "    keys = 'id',\n",
    "    inplace = True\n",
    ")"
   ]
  },
  {
   "cell_type": "code",
   "execution_count": 8,
   "metadata": {},
   "outputs": [],
   "source": [
    "games.drop(\n",
    "    columns = ['url', 'icon_url'],\n",
    "    inplace = True\n",
    ")"
   ]
  },
  {
   "cell_type": "code",
   "execution_count": 9,
   "metadata": {},
   "outputs": [
    {
     "data": {
      "text/html": [
       "<div>\n",
       "<style scoped>\n",
       "    .dataframe tbody tr th:only-of-type {\n",
       "        vertical-align: middle;\n",
       "    }\n",
       "\n",
       "    .dataframe tbody tr th {\n",
       "        vertical-align: top;\n",
       "    }\n",
       "\n",
       "    .dataframe thead th {\n",
       "        text-align: right;\n",
       "    }\n",
       "</style>\n",
       "<table border=\"1\" class=\"dataframe\">\n",
       "  <thead>\n",
       "    <tr style=\"text-align: right;\">\n",
       "      <th></th>\n",
       "      <th>name</th>\n",
       "      <th>subtitle</th>\n",
       "      <th>average_user_rating</th>\n",
       "      <th>user_rating_count</th>\n",
       "      <th>price</th>\n",
       "      <th>in-app_purchases</th>\n",
       "      <th>description</th>\n",
       "      <th>developer</th>\n",
       "      <th>age_rating</th>\n",
       "      <th>languages</th>\n",
       "      <th>size</th>\n",
       "      <th>primary_genre</th>\n",
       "      <th>genres</th>\n",
       "      <th>original_release_date</th>\n",
       "      <th>current_version_release_date</th>\n",
       "    </tr>\n",
       "    <tr>\n",
       "      <th>id</th>\n",
       "      <th></th>\n",
       "      <th></th>\n",
       "      <th></th>\n",
       "      <th></th>\n",
       "      <th></th>\n",
       "      <th></th>\n",
       "      <th></th>\n",
       "      <th></th>\n",
       "      <th></th>\n",
       "      <th></th>\n",
       "      <th></th>\n",
       "      <th></th>\n",
       "      <th></th>\n",
       "      <th></th>\n",
       "      <th></th>\n",
       "    </tr>\n",
       "  </thead>\n",
       "  <tbody>\n",
       "    <tr>\n",
       "      <th>284921427</th>\n",
       "      <td>Sudoku</td>\n",
       "      <td>NaN</td>\n",
       "      <td>4.0</td>\n",
       "      <td>3553.0</td>\n",
       "      <td>2.99</td>\n",
       "      <td>NaN</td>\n",
       "      <td>Join over 21,000,000 of our fans and download ...</td>\n",
       "      <td>Mighty Mighty Good Games</td>\n",
       "      <td>4+</td>\n",
       "      <td>DA, NL, EN, FI, FR, DE, IT, JA, KO, NB, PL, PT...</td>\n",
       "      <td>15853568.0</td>\n",
       "      <td>Games</td>\n",
       "      <td>Games, Strategy, Puzzle</td>\n",
       "      <td>11/07/2008</td>\n",
       "      <td>30/05/2017</td>\n",
       "    </tr>\n",
       "    <tr>\n",
       "      <th>284926400</th>\n",
       "      <td>Reversi</td>\n",
       "      <td>NaN</td>\n",
       "      <td>3.5</td>\n",
       "      <td>284.0</td>\n",
       "      <td>1.99</td>\n",
       "      <td>NaN</td>\n",
       "      <td>The classic game of Reversi, also known as Oth...</td>\n",
       "      <td>Kiss The Machine</td>\n",
       "      <td>4+</td>\n",
       "      <td>EN</td>\n",
       "      <td>12328960.0</td>\n",
       "      <td>Games</td>\n",
       "      <td>Games, Strategy, Board</td>\n",
       "      <td>11/07/2008</td>\n",
       "      <td>17/05/2018</td>\n",
       "    </tr>\n",
       "    <tr>\n",
       "      <th>284946595</th>\n",
       "      <td>Morocco</td>\n",
       "      <td>NaN</td>\n",
       "      <td>3.0</td>\n",
       "      <td>8376.0</td>\n",
       "      <td>0.00</td>\n",
       "      <td>NaN</td>\n",
       "      <td>Play the classic strategy game Othello (also k...</td>\n",
       "      <td>Bayou Games</td>\n",
       "      <td>4+</td>\n",
       "      <td>EN</td>\n",
       "      <td>674816.0</td>\n",
       "      <td>Games</td>\n",
       "      <td>Games, Board, Strategy</td>\n",
       "      <td>11/07/2008</td>\n",
       "      <td>5/09/2017</td>\n",
       "    </tr>\n",
       "    <tr>\n",
       "      <th>285755462</th>\n",
       "      <td>Sudoku (Free)</td>\n",
       "      <td>NaN</td>\n",
       "      <td>3.5</td>\n",
       "      <td>190394.0</td>\n",
       "      <td>0.00</td>\n",
       "      <td>NaN</td>\n",
       "      <td>Top 100 free app for over a year.\\nRated \"Best...</td>\n",
       "      <td>Mighty Mighty Good Games</td>\n",
       "      <td>4+</td>\n",
       "      <td>DA, NL, EN, FI, FR, DE, IT, JA, KO, NB, PL, PT...</td>\n",
       "      <td>21552128.0</td>\n",
       "      <td>Games</td>\n",
       "      <td>Games, Strategy, Puzzle</td>\n",
       "      <td>23/07/2008</td>\n",
       "      <td>30/05/2017</td>\n",
       "    </tr>\n",
       "    <tr>\n",
       "      <th>285831220</th>\n",
       "      <td>Senet Deluxe</td>\n",
       "      <td>NaN</td>\n",
       "      <td>3.5</td>\n",
       "      <td>28.0</td>\n",
       "      <td>2.99</td>\n",
       "      <td>NaN</td>\n",
       "      <td>\"Senet Deluxe - The Ancient Game of Life and A...</td>\n",
       "      <td>RoGame Software</td>\n",
       "      <td>4+</td>\n",
       "      <td>DA, NL, EN, FR, DE, EL, IT, JA, KO, NO, PT, RU...</td>\n",
       "      <td>34689024.0</td>\n",
       "      <td>Games</td>\n",
       "      <td>Games, Strategy, Board, Education</td>\n",
       "      <td>18/07/2008</td>\n",
       "      <td>22/07/2018</td>\n",
       "    </tr>\n",
       "  </tbody>\n",
       "</table>\n",
       "</div>"
      ],
      "text/plain": [
       "                    name subtitle  average_user_rating  user_rating_count  \\\n",
       "id                                                                          \n",
       "284921427         Sudoku      NaN                  4.0             3553.0   \n",
       "284926400        Reversi      NaN                  3.5              284.0   \n",
       "284946595        Morocco      NaN                  3.0             8376.0   \n",
       "285755462  Sudoku (Free)      NaN                  3.5           190394.0   \n",
       "285831220   Senet Deluxe      NaN                  3.5               28.0   \n",
       "\n",
       "           price in-app_purchases  \\\n",
       "id                                  \n",
       "284921427   2.99              NaN   \n",
       "284926400   1.99              NaN   \n",
       "284946595   0.00              NaN   \n",
       "285755462   0.00              NaN   \n",
       "285831220   2.99              NaN   \n",
       "\n",
       "                                                 description  \\\n",
       "id                                                             \n",
       "284921427  Join over 21,000,000 of our fans and download ...   \n",
       "284926400  The classic game of Reversi, also known as Oth...   \n",
       "284946595  Play the classic strategy game Othello (also k...   \n",
       "285755462  Top 100 free app for over a year.\\nRated \"Best...   \n",
       "285831220  \"Senet Deluxe - The Ancient Game of Life and A...   \n",
       "\n",
       "                          developer age_rating  \\\n",
       "id                                               \n",
       "284921427  Mighty Mighty Good Games         4+   \n",
       "284926400          Kiss The Machine         4+   \n",
       "284946595               Bayou Games         4+   \n",
       "285755462  Mighty Mighty Good Games         4+   \n",
       "285831220           RoGame Software         4+   \n",
       "\n",
       "                                                   languages        size  \\\n",
       "id                                                                         \n",
       "284921427  DA, NL, EN, FI, FR, DE, IT, JA, KO, NB, PL, PT...  15853568.0   \n",
       "284926400                                                 EN  12328960.0   \n",
       "284946595                                                 EN    674816.0   \n",
       "285755462  DA, NL, EN, FI, FR, DE, IT, JA, KO, NB, PL, PT...  21552128.0   \n",
       "285831220  DA, NL, EN, FR, DE, EL, IT, JA, KO, NO, PT, RU...  34689024.0   \n",
       "\n",
       "          primary_genre                             genres  \\\n",
       "id                                                           \n",
       "284921427         Games            Games, Strategy, Puzzle   \n",
       "284926400         Games             Games, Strategy, Board   \n",
       "284946595         Games             Games, Board, Strategy   \n",
       "285755462         Games            Games, Strategy, Puzzle   \n",
       "285831220         Games  Games, Strategy, Board, Education   \n",
       "\n",
       "          original_release_date current_version_release_date  \n",
       "id                                                            \n",
       "284921427            11/07/2008                   30/05/2017  \n",
       "284926400            11/07/2008                   17/05/2018  \n",
       "284946595            11/07/2008                    5/09/2017  \n",
       "285755462            23/07/2008                   30/05/2017  \n",
       "285831220            18/07/2008                   22/07/2018  "
      ]
     },
     "execution_count": 9,
     "metadata": {},
     "output_type": "execute_result"
    }
   ],
   "source": [
    "games.head()"
   ]
  },
  {
   "cell_type": "code",
   "execution_count": 10,
   "metadata": {},
   "outputs": [
    {
     "name": "stdout",
     "output_type": "stream",
     "text": [
      "<class 'pandas.core.frame.DataFrame'>\n",
      "Int64Index: 17007 entries, 284921427 to 1475076711\n",
      "Data columns (total 15 columns):\n",
      "name                            17007 non-null object\n",
      "subtitle                        5261 non-null object\n",
      "average_user_rating             7561 non-null float64\n",
      "user_rating_count               7561 non-null float64\n",
      "price                           16983 non-null float64\n",
      "in-app_purchases                7683 non-null object\n",
      "description                     17007 non-null object\n",
      "developer                       17007 non-null object\n",
      "age_rating                      17007 non-null object\n",
      "languages                       16947 non-null object\n",
      "size                            17006 non-null float64\n",
      "primary_genre                   17007 non-null object\n",
      "genres                          17007 non-null object\n",
      "original_release_date           17007 non-null object\n",
      "current_version_release_date    17007 non-null object\n",
      "dtypes: float64(4), object(11)\n",
      "memory usage: 2.1+ MB\n"
     ]
    }
   ],
   "source": [
    "games.info()"
   ]
  },
  {
   "cell_type": "code",
   "execution_count": 11,
   "metadata": {},
   "outputs": [],
   "source": [
    "games['original_release_date'] = pd.to_datetime(games['original_release_date'])\n",
    "games['current_version_release_date'] = pd.to_datetime(games['current_version_release_date'])"
   ]
  },
  {
   "cell_type": "code",
   "execution_count": 12,
   "metadata": {},
   "outputs": [
    {
     "name": "stdout",
     "output_type": "stream",
     "text": [
      "<class 'pandas.core.frame.DataFrame'>\n",
      "Int64Index: 17007 entries, 284921427 to 1475076711\n",
      "Data columns (total 15 columns):\n",
      "name                            17007 non-null object\n",
      "subtitle                        5261 non-null object\n",
      "average_user_rating             7561 non-null float64\n",
      "user_rating_count               7561 non-null float64\n",
      "price                           16983 non-null float64\n",
      "in-app_purchases                7683 non-null object\n",
      "description                     17007 non-null object\n",
      "developer                       17007 non-null object\n",
      "age_rating                      17007 non-null object\n",
      "languages                       16947 non-null object\n",
      "size                            17006 non-null float64\n",
      "primary_genre                   17007 non-null object\n",
      "genres                          17007 non-null object\n",
      "original_release_date           17007 non-null datetime64[ns]\n",
      "current_version_release_date    17007 non-null datetime64[ns]\n",
      "dtypes: datetime64[ns](2), float64(4), object(9)\n",
      "memory usage: 2.1+ MB\n"
     ]
    }
   ],
   "source": [
    "games.info()"
   ]
  },
  {
   "cell_type": "code",
   "execution_count": 13,
   "metadata": {},
   "outputs": [
    {
     "data": {
      "text/html": [
       "<div>\n",
       "<style scoped>\n",
       "    .dataframe tbody tr th:only-of-type {\n",
       "        vertical-align: middle;\n",
       "    }\n",
       "\n",
       "    .dataframe tbody tr th {\n",
       "        vertical-align: top;\n",
       "    }\n",
       "\n",
       "    .dataframe thead th {\n",
       "        text-align: right;\n",
       "    }\n",
       "</style>\n",
       "<table border=\"1\" class=\"dataframe\">\n",
       "  <thead>\n",
       "    <tr style=\"text-align: right;\">\n",
       "      <th></th>\n",
       "      <th>name</th>\n",
       "      <th>subtitle</th>\n",
       "      <th>average_user_rating</th>\n",
       "      <th>user_rating_count</th>\n",
       "      <th>price</th>\n",
       "      <th>in-app_purchases</th>\n",
       "      <th>description</th>\n",
       "      <th>developer</th>\n",
       "      <th>age_rating</th>\n",
       "      <th>languages</th>\n",
       "      <th>size</th>\n",
       "      <th>primary_genre</th>\n",
       "      <th>genres</th>\n",
       "      <th>original_release_date</th>\n",
       "      <th>current_version_release_date</th>\n",
       "    </tr>\n",
       "    <tr>\n",
       "      <th>id</th>\n",
       "      <th></th>\n",
       "      <th></th>\n",
       "      <th></th>\n",
       "      <th></th>\n",
       "      <th></th>\n",
       "      <th></th>\n",
       "      <th></th>\n",
       "      <th></th>\n",
       "      <th></th>\n",
       "      <th></th>\n",
       "      <th></th>\n",
       "      <th></th>\n",
       "      <th></th>\n",
       "      <th></th>\n",
       "      <th></th>\n",
       "    </tr>\n",
       "  </thead>\n",
       "  <tbody>\n",
       "    <tr>\n",
       "      <th>284921427</th>\n",
       "      <td>Sudoku</td>\n",
       "      <td>NaN</td>\n",
       "      <td>4.0</td>\n",
       "      <td>3553.0</td>\n",
       "      <td>2.99</td>\n",
       "      <td>NaN</td>\n",
       "      <td>Join over 21,000,000 of our fans and download ...</td>\n",
       "      <td>Mighty Mighty Good Games</td>\n",
       "      <td>4+</td>\n",
       "      <td>DA, NL, EN, FI, FR, DE, IT, JA, KO, NB, PL, PT...</td>\n",
       "      <td>15853568.0</td>\n",
       "      <td>Games</td>\n",
       "      <td>Games, Strategy, Puzzle</td>\n",
       "      <td>2008-11-07</td>\n",
       "      <td>2017-05-30</td>\n",
       "    </tr>\n",
       "    <tr>\n",
       "      <th>284926400</th>\n",
       "      <td>Reversi</td>\n",
       "      <td>NaN</td>\n",
       "      <td>3.5</td>\n",
       "      <td>284.0</td>\n",
       "      <td>1.99</td>\n",
       "      <td>NaN</td>\n",
       "      <td>The classic game of Reversi, also known as Oth...</td>\n",
       "      <td>Kiss The Machine</td>\n",
       "      <td>4+</td>\n",
       "      <td>EN</td>\n",
       "      <td>12328960.0</td>\n",
       "      <td>Games</td>\n",
       "      <td>Games, Strategy, Board</td>\n",
       "      <td>2008-11-07</td>\n",
       "      <td>2018-05-17</td>\n",
       "    </tr>\n",
       "    <tr>\n",
       "      <th>284946595</th>\n",
       "      <td>Morocco</td>\n",
       "      <td>NaN</td>\n",
       "      <td>3.0</td>\n",
       "      <td>8376.0</td>\n",
       "      <td>0.00</td>\n",
       "      <td>NaN</td>\n",
       "      <td>Play the classic strategy game Othello (also k...</td>\n",
       "      <td>Bayou Games</td>\n",
       "      <td>4+</td>\n",
       "      <td>EN</td>\n",
       "      <td>674816.0</td>\n",
       "      <td>Games</td>\n",
       "      <td>Games, Board, Strategy</td>\n",
       "      <td>2008-11-07</td>\n",
       "      <td>2017-05-09</td>\n",
       "    </tr>\n",
       "    <tr>\n",
       "      <th>285755462</th>\n",
       "      <td>Sudoku (Free)</td>\n",
       "      <td>NaN</td>\n",
       "      <td>3.5</td>\n",
       "      <td>190394.0</td>\n",
       "      <td>0.00</td>\n",
       "      <td>NaN</td>\n",
       "      <td>Top 100 free app for over a year.\\nRated \"Best...</td>\n",
       "      <td>Mighty Mighty Good Games</td>\n",
       "      <td>4+</td>\n",
       "      <td>DA, NL, EN, FI, FR, DE, IT, JA, KO, NB, PL, PT...</td>\n",
       "      <td>21552128.0</td>\n",
       "      <td>Games</td>\n",
       "      <td>Games, Strategy, Puzzle</td>\n",
       "      <td>2008-07-23</td>\n",
       "      <td>2017-05-30</td>\n",
       "    </tr>\n",
       "    <tr>\n",
       "      <th>285831220</th>\n",
       "      <td>Senet Deluxe</td>\n",
       "      <td>NaN</td>\n",
       "      <td>3.5</td>\n",
       "      <td>28.0</td>\n",
       "      <td>2.99</td>\n",
       "      <td>NaN</td>\n",
       "      <td>\"Senet Deluxe - The Ancient Game of Life and A...</td>\n",
       "      <td>RoGame Software</td>\n",
       "      <td>4+</td>\n",
       "      <td>DA, NL, EN, FR, DE, EL, IT, JA, KO, NO, PT, RU...</td>\n",
       "      <td>34689024.0</td>\n",
       "      <td>Games</td>\n",
       "      <td>Games, Strategy, Board, Education</td>\n",
       "      <td>2008-07-18</td>\n",
       "      <td>2018-07-22</td>\n",
       "    </tr>\n",
       "  </tbody>\n",
       "</table>\n",
       "</div>"
      ],
      "text/plain": [
       "                    name subtitle  average_user_rating  user_rating_count  \\\n",
       "id                                                                          \n",
       "284921427         Sudoku      NaN                  4.0             3553.0   \n",
       "284926400        Reversi      NaN                  3.5              284.0   \n",
       "284946595        Morocco      NaN                  3.0             8376.0   \n",
       "285755462  Sudoku (Free)      NaN                  3.5           190394.0   \n",
       "285831220   Senet Deluxe      NaN                  3.5               28.0   \n",
       "\n",
       "           price in-app_purchases  \\\n",
       "id                                  \n",
       "284921427   2.99              NaN   \n",
       "284926400   1.99              NaN   \n",
       "284946595   0.00              NaN   \n",
       "285755462   0.00              NaN   \n",
       "285831220   2.99              NaN   \n",
       "\n",
       "                                                 description  \\\n",
       "id                                                             \n",
       "284921427  Join over 21,000,000 of our fans and download ...   \n",
       "284926400  The classic game of Reversi, also known as Oth...   \n",
       "284946595  Play the classic strategy game Othello (also k...   \n",
       "285755462  Top 100 free app for over a year.\\nRated \"Best...   \n",
       "285831220  \"Senet Deluxe - The Ancient Game of Life and A...   \n",
       "\n",
       "                          developer age_rating  \\\n",
       "id                                               \n",
       "284921427  Mighty Mighty Good Games         4+   \n",
       "284926400          Kiss The Machine         4+   \n",
       "284946595               Bayou Games         4+   \n",
       "285755462  Mighty Mighty Good Games         4+   \n",
       "285831220           RoGame Software         4+   \n",
       "\n",
       "                                                   languages        size  \\\n",
       "id                                                                         \n",
       "284921427  DA, NL, EN, FI, FR, DE, IT, JA, KO, NB, PL, PT...  15853568.0   \n",
       "284926400                                                 EN  12328960.0   \n",
       "284946595                                                 EN    674816.0   \n",
       "285755462  DA, NL, EN, FI, FR, DE, IT, JA, KO, NB, PL, PT...  21552128.0   \n",
       "285831220  DA, NL, EN, FR, DE, EL, IT, JA, KO, NO, PT, RU...  34689024.0   \n",
       "\n",
       "          primary_genre                             genres  \\\n",
       "id                                                           \n",
       "284921427         Games            Games, Strategy, Puzzle   \n",
       "284926400         Games             Games, Strategy, Board   \n",
       "284946595         Games             Games, Board, Strategy   \n",
       "285755462         Games            Games, Strategy, Puzzle   \n",
       "285831220         Games  Games, Strategy, Board, Education   \n",
       "\n",
       "          original_release_date current_version_release_date  \n",
       "id                                                            \n",
       "284921427            2008-11-07                   2017-05-30  \n",
       "284926400            2008-11-07                   2018-05-17  \n",
       "284946595            2008-11-07                   2017-05-09  \n",
       "285755462            2008-07-23                   2017-05-30  \n",
       "285831220            2008-07-18                   2018-07-22  "
      ]
     },
     "execution_count": 13,
     "metadata": {},
     "output_type": "execute_result"
    }
   ],
   "source": [
    "games.head()"
   ]
  },
  {
   "cell_type": "code",
   "execution_count": 14,
   "metadata": {},
   "outputs": [
    {
     "name": "stdout",
     "output_type": "stream",
     "text": [
      "<class 'pandas.core.frame.DataFrame'>\n",
      "Int64Index: 17007 entries, 284921427 to 1475076711\n",
      "Data columns (total 15 columns):\n",
      "name                            17007 non-null object\n",
      "subtitle                        5261 non-null object\n",
      "average_user_rating             7561 non-null float64\n",
      "user_rating_count               7561 non-null float64\n",
      "price                           16983 non-null float64\n",
      "in-app_purchases                7683 non-null object\n",
      "description                     17007 non-null object\n",
      "developer                       17007 non-null object\n",
      "age_rating                      17007 non-null object\n",
      "languages                       16947 non-null object\n",
      "size                            17006 non-null float64\n",
      "primary_genre                   17007 non-null object\n",
      "genres                          17007 non-null object\n",
      "original_release_date           17007 non-null datetime64[ns]\n",
      "current_version_release_date    17007 non-null datetime64[ns]\n",
      "dtypes: datetime64[ns](2), float64(4), object(9)\n",
      "memory usage: 2.1+ MB\n"
     ]
    }
   ],
   "source": [
    "games.info()"
   ]
  },
  {
   "cell_type": "code",
   "execution_count": 15,
   "metadata": {},
   "outputs": [
    {
     "data": {
      "text/plain": [
       "name                                0\n",
       "subtitle                        11746\n",
       "average_user_rating              9446\n",
       "user_rating_count                9446\n",
       "price                              24\n",
       "in-app_purchases                 9324\n",
       "description                         0\n",
       "developer                           0\n",
       "age_rating                          0\n",
       "languages                          60\n",
       "size                                1\n",
       "primary_genre                       0\n",
       "genres                              0\n",
       "original_release_date               0\n",
       "current_version_release_date        0\n",
       "dtype: int64"
      ]
     },
     "execution_count": 15,
     "metadata": {},
     "output_type": "execute_result"
    }
   ],
   "source": [
    "games.isnull().sum()"
   ]
  },
  {
   "cell_type": "code",
   "execution_count": 16,
   "metadata": {},
   "outputs": [
    {
     "data": {
      "text/plain": [
       "True"
      ]
     },
     "execution_count": 16,
     "metadata": {},
     "output_type": "execute_result"
    }
   ],
   "source": [
    "np.array_equal(\n",
    "    games['average_user_rating'].isnull(),\n",
    "    games['user_rating_count'].isnull()\n",
    ")"
   ]
  },
  {
   "cell_type": "code",
   "execution_count": 17,
   "metadata": {},
   "outputs": [],
   "source": [
    "games = games.loc[games['average_user_rating'].notnull()]"
   ]
  },
  {
   "cell_type": "code",
   "execution_count": 18,
   "metadata": {},
   "outputs": [],
   "source": [
    "games = games.loc[games['user_rating_count'] >= 30]"
   ]
  },
  {
   "cell_type": "code",
   "execution_count": 19,
   "metadata": {},
   "outputs": [
    {
     "data": {
      "text/plain": [
       "(4311, 15)"
      ]
     },
     "execution_count": 19,
     "metadata": {},
     "output_type": "execute_result"
    }
   ],
   "source": [
    "games.shape"
   ]
  },
  {
   "cell_type": "code",
   "execution_count": 20,
   "metadata": {},
   "outputs": [
    {
     "data": {
      "text/plain": [
       "name                               0\n",
       "subtitle                        2523\n",
       "average_user_rating                0\n",
       "user_rating_count                  0\n",
       "price                              0\n",
       "in-app_purchases                1313\n",
       "description                        0\n",
       "developer                          0\n",
       "age_rating                         0\n",
       "languages                         14\n",
       "size                               0\n",
       "primary_genre                      0\n",
       "genres                             0\n",
       "original_release_date              0\n",
       "current_version_release_date       0\n",
       "dtype: int64"
      ]
     },
     "execution_count": 20,
     "metadata": {},
     "output_type": "execute_result"
    }
   ],
   "source": [
    "games.isnull().sum()"
   ]
  },
  {
   "cell_type": "markdown",
   "metadata": {},
   "source": [
    "###  7.1.5 Exercise: further data preparation"
   ]
  },
  {
   "cell_type": "code",
   "execution_count": null,
   "metadata": {},
   "outputs": [],
   "source": []
  },
  {
   "cell_type": "code",
   "execution_count": null,
   "metadata": {},
   "outputs": [],
   "source": []
  },
  {
   "cell_type": "markdown",
   "metadata": {},
   "source": [
    "## 7.2 Using descriptive statistics to make sense of data"
   ]
  },
  {
   "cell_type": "code",
   "execution_count": 26,
   "metadata": {
    "scrolled": false
   },
   "outputs": [
    {
     "name": "stdout",
     "output_type": "stream",
     "text": [
      "4.5, 4.5, 3.5, 4.5, 4.5, 3.0, 4.5, 4.5, 4.0, 4.0, 4.5, 4.5, 2.5, 3.0, 4.5, 2.5, 5.0, 4.5, 3.0, 2.5, 4.5, 4.0, 5.0, 4.5, 4.0, 3.5, 4.5, 4.0, 5.0, 4.0, 3.5, 4.0, 4.0, 4.0, 4.5, 4.5, 3.5, 4.0, 4.5, 4.5, 4.5, 3.0, 3.0, 4.5, 4.5, 5.0, 4.0, 4.0, 5.0, 3.5, 4.5, 4.0, 4.0, 4.5, 4.5, 4.5, 5.0, 4.0, 3.5, 3.5, 4.5, 3.5, 4.5, 4.5, 5.0, 4.5, 5.0, 4.0, 4.0, 3.0, 4.5, 4.5, 4.0, 3.0, 3.5, 4.0, 3.5, 3.5, 3.5, 4.5, 4.5, 4.5, 4.0, 5.0, 4.5, 3.5, 4.5, 3.5, 1.5, 4.0, 4.5, 4.5, 4.5, 4.5, 3.5, 4.5, 4.5, 4.5, 4.0, 3.5, 4.5, 3.5, 4.5, 5.0, 4.0, 4.5, 4.0, 4.5, 4.5, 4.5, 4.0, 4.5, 3.0, 3.5, 4.5, 4.0, 4.5, 3.0, 4.5, 4.5, 4.5, 4.0, 2.5, 4.0, 4.5, 4.5, 4.5, 4.0, 4.5, 4.5, 3.0, 3.5, 3.0, 2.5, 4.5, 4.5, 4.5, 5.0, 1.5, 4.5, 4.5, 4.0, 4.5, 4.5, 2.5, 4.5, 3.5, 5.0, 4.0, 4.5, 4.5, 3.5, 4.0, 4.0, 3.5, 4.5, 4.0, 4.5, 4.5, 4.0, 4.5, 4.5, 4.5, 4.0, 2.5, 4.0, 4.5, 4.5, 4.5, 3.0, 3.0, 4.5, 3.5, 3.0, 3.5, 4.5, 4.5, 4.0, 4.5, 4.5, 4.0, 5.0, 4.0, 4.5, 3.5, 4.0, 5.0, 4.5, 4.0, 4.0, 3.5, 4.0, 4.5, 4.5, 4.5, 4.5, 4.0, 4.5, 4.0, 5.0, 4.0, 3.5, 4.5, 3.0, 4.5, 4.5, 4.5, 4.5, 4.0, 3.5, 4.0, 4.5, 4.5, 4.0, 4.5, 4.5, 4.5, 4.5, 4.5, 4.5, 3.5, 2.0, 3.5, 4.5, 4.5, 3.0, 4.5, 4.0, 4.5, 3.0, 4.5, 4.5, 4.5, 3.0, 4.5, 4.5, 4.0, 4.0, 5.0, 3.5, 4.0, 4.5, 4.5, 4.5, 3.5, 4.5, 4.5, 3.0, 4.5, 4.5, 4.5, 4.0, 4.5, 4.0, 4.0, 4.5, 4.0, 3.0, 4.5, 4.0, 3.5, 5.0, 4.5, 4.0, 4.0, 4.5, 4.5, 4.0, 4.5, 5.0, 4.5, 4.0, 4.5, 3.0, 4.0, 4.5, 5.0, 3.5, 4.0, 4.5, 4.5, 4.0, 4.5, 4.5, 4.5, 4.5, 2.0, 3.0, 4.5, 4.5, 3.0, 4.5, 5.0, 5.0, 4.0, 4.5, 4.0, 4.5, 4.5, 4.5, "
     ]
    }
   ],
   "source": [
    "random_ratings = games['average_user_rating'].sample(n=300)\n",
    "for r in random_ratings:\n",
    "    print(r, end=', ')"
   ]
  },
  {
   "cell_type": "code",
   "execution_count": 27,
   "metadata": {},
   "outputs": [
    {
     "data": {
      "text/plain": [
       "array([1.68, 1.83, 1.75, 1.8 , 1.88, 1.8 , 1.89, 1.84, 1.9 , 1.65, 1.67,\n",
       "       1.62, 1.81, 1.73, 1.84, 1.78, 1.76, 1.97, 1.81, 1.75, 1.65, 1.87,\n",
       "       1.85, 1.64])"
      ]
     },
     "execution_count": 27,
     "metadata": {},
     "output_type": "execute_result"
    }
   ],
   "source": [
    "np.random.seed(13)\n",
    "mens_heights = np.random.normal(1.75, 0.1, 24)\n",
    "mens_heights = np.round(mens_heights, 2)\n",
    "mens_heights"
   ]
  },
  {
   "cell_type": "code",
   "execution_count": 28,
   "metadata": {},
   "outputs": [
    {
     "data": {
      "text/plain": [
       "1.7820833333333332"
      ]
     },
     "execution_count": 28,
     "metadata": {},
     "output_type": "execute_result"
    }
   ],
   "source": [
    "mens_heights.mean()"
   ]
  },
  {
   "cell_type": "code",
   "execution_count": 29,
   "metadata": {},
   "outputs": [
    {
     "data": {
      "text/plain": [
       "0.09210407006328344"
      ]
     },
     "execution_count": 29,
     "metadata": {},
     "output_type": "execute_result"
    }
   ],
   "source": [
    "mens_heights.std()"
   ]
  },
  {
   "cell_type": "code",
   "execution_count": 30,
   "metadata": {},
   "outputs": [
    {
     "data": {
      "text/plain": [
       "array([1.77, 1.75, 1.75, 1.75, 1.73, 1.75, 1.73, 1.75, 1.74, 1.76, 1.75,\n",
       "       1.75, 1.74, 1.76, 1.75, 1.76, 1.76, 1.76, 1.75, 1.73, 1.74, 1.76,\n",
       "       1.76, 1.76])"
      ]
     },
     "execution_count": 30,
     "metadata": {},
     "output_type": "execute_result"
    }
   ],
   "source": [
    "np.random.seed(14)\n",
    "mens_heights2 = np.random.normal(1.75, 0.01, 24)\n",
    "mens_heights2 = np.round(mens_heights2, 2)\n",
    "mens_heights2"
   ]
  },
  {
   "cell_type": "code",
   "execution_count": 31,
   "metadata": {},
   "outputs": [],
   "source": [
    "mens_heights = pd.Series(\n",
    "    [1.68, 1.83, 1.75, 1.8, 1.88, 1.8, 1.89, 1.84,\n",
    "     1.9, 1.65, 1.67,1.62, 1.81, 1.73, 1.84, 1.78,\n",
    "     1.76, 1.97, 1.81, 1.75, 1.65, 1.87, 1.85, 1.64]\n",
    ")"
   ]
  },
  {
   "cell_type": "code",
   "execution_count": 32,
   "metadata": {},
   "outputs": [],
   "source": [
    "mens_heights_2 = pd.Series(\n",
    "    [1.77, 1.75, 1.75, 1.75, 1.73, 1.75, 1.73, 1.75,\n",
    "     1.74, 1.76, 1.75, 1.75, 1.74, 1.76, 1.75, 1.76,\n",
    "     1.76, 1.76, 1.75, 1.73, 1.74, 1.76, 1.76, 1.76]\n",
    ")"
   ]
  },
  {
   "cell_type": "code",
   "execution_count": 33,
   "metadata": {},
   "outputs": [
    {
     "data": {
      "text/plain": [
       "1.7504166666666665"
      ]
     },
     "execution_count": 33,
     "metadata": {},
     "output_type": "execute_result"
    }
   ],
   "source": [
    "mens_heights_2.mean()"
   ]
  },
  {
   "cell_type": "code",
   "execution_count": 34,
   "metadata": {},
   "outputs": [
    {
     "data": {
      "text/plain": [
       "0.010826363421183332"
      ]
     },
     "execution_count": 34,
     "metadata": {},
     "output_type": "execute_result"
    }
   ],
   "source": [
    "mens_heights_2.std()"
   ]
  },
  {
   "cell_type": "code",
   "execution_count": 35,
   "metadata": {},
   "outputs": [
    {
     "name": "stdout",
     "output_type": "stream",
     "text": [
      "1.68, 1.83, 1.75, 1.8, 1.88, 1.8, 1.89, 1.84, 1.9, 1.65, 1.67, 1.62, 1.81, 1.73, 1.84, 1.78, 1.76, 1.97, 1.81, 1.75, 1.65, 1.87, 1.85, 1.64, "
     ]
    }
   ],
   "source": [
    "for h in mens_heights:\n",
    "    print(h, end= ', ')"
   ]
  },
  {
   "cell_type": "code",
   "execution_count": 36,
   "metadata": {},
   "outputs": [
    {
     "data": {
      "text/plain": [
       "11    1.62\n",
       "23    1.64\n",
       "20    1.65\n",
       "9     1.65\n",
       "10    1.67\n",
       "0     1.68\n",
       "13    1.73\n",
       "19    1.75\n",
       "2     1.75\n",
       "16    1.76\n",
       "15    1.78\n",
       "5     1.80\n",
       "3     1.80\n",
       "18    1.81\n",
       "12    1.81\n",
       "1     1.83\n",
       "7     1.84\n",
       "14    1.84\n",
       "22    1.85\n",
       "21    1.87\n",
       "4     1.88\n",
       "6     1.89\n",
       "8     1.90\n",
       "17    1.97\n",
       "dtype: float64"
      ]
     },
     "execution_count": 36,
     "metadata": {},
     "output_type": "execute_result"
    }
   ],
   "source": [
    "mens_heights.sort_values()"
   ]
  },
  {
   "cell_type": "code",
   "execution_count": 37,
   "metadata": {},
   "outputs": [
    {
     "data": {
      "text/plain": [
       "0.25    1.7175\n",
       "0.50    1.8000\n",
       "0.75    1.8425\n",
       "dtype: float64"
      ]
     },
     "execution_count": 37,
     "metadata": {},
     "output_type": "execute_result"
    }
   ],
   "source": [
    "mens_heights.quantile([0.25, 0.5, 0.75])"
   ]
  },
  {
   "cell_type": "code",
   "execution_count": 38,
   "metadata": {},
   "outputs": [
    {
     "data": {
      "text/plain": [
       "0.33    1.750\n",
       "0.80    1.858\n",
       "dtype: float64"
      ]
     },
     "execution_count": 38,
     "metadata": {},
     "output_type": "execute_result"
    }
   ],
   "source": [
    "mens_heights.quantile([0.33, 0.80])"
   ]
  },
  {
   "cell_type": "code",
   "execution_count": 39,
   "metadata": {
    "scrolled": true
   },
   "outputs": [
    {
     "data": {
      "text/plain": [
       "count    24.000000\n",
       "mean      1.782083\n",
       "std       0.094085\n",
       "min       1.620000\n",
       "25%       1.717500\n",
       "50%       1.800000\n",
       "75%       1.842500\n",
       "max       1.970000\n",
       "dtype: float64"
      ]
     },
     "execution_count": 39,
     "metadata": {},
     "output_type": "execute_result"
    }
   ],
   "source": [
    "mens_heights.describe()"
   ]
  },
  {
   "cell_type": "code",
   "execution_count": 40,
   "metadata": {},
   "outputs": [
    {
     "data": {
      "text/plain": [
       "0     False\n",
       "1      True\n",
       "2     False\n",
       "3      True\n",
       "4      True\n",
       "5      True\n",
       "6      True\n",
       "7      True\n",
       "8      True\n",
       "9     False\n",
       "10    False\n",
       "11    False\n",
       "12     True\n",
       "13    False\n",
       "14     True\n",
       "15    False\n",
       "16    False\n",
       "17     True\n",
       "18     True\n",
       "19    False\n",
       "20    False\n",
       "21     True\n",
       "22     True\n",
       "23    False\n",
       "dtype: bool"
      ]
     },
     "execution_count": 40,
     "metadata": {},
     "output_type": "execute_result"
    }
   ],
   "source": [
    "mens_heights >= 1.8"
   ]
  },
  {
   "cell_type": "code",
   "execution_count": 41,
   "metadata": {},
   "outputs": [
    {
     "data": {
      "text/plain": [
       "0.5416666666666666"
      ]
     },
     "execution_count": 41,
     "metadata": {},
     "output_type": "execute_result"
    }
   ],
   "source": [
    "(mens_heights >= 1.8).sum()/mens_heights.shape[0]"
   ]
  },
  {
   "cell_type": "markdown",
   "metadata": {},
   "source": [
    "### 7.2.3 Using descriptive statistics"
   ]
  },
  {
   "cell_type": "code",
   "execution_count": 42,
   "metadata": {},
   "outputs": [
    {
     "data": {
      "text/html": [
       "<div>\n",
       "<style scoped>\n",
       "    .dataframe tbody tr th:only-of-type {\n",
       "        vertical-align: middle;\n",
       "    }\n",
       "\n",
       "    .dataframe tbody tr th {\n",
       "        vertical-align: top;\n",
       "    }\n",
       "\n",
       "    .dataframe thead th {\n",
       "        text-align: right;\n",
       "    }\n",
       "</style>\n",
       "<table border=\"1\" class=\"dataframe\">\n",
       "  <thead>\n",
       "    <tr style=\"text-align: right;\">\n",
       "      <th></th>\n",
       "      <th>average_user_rating</th>\n",
       "      <th>user_rating_count</th>\n",
       "      <th>price</th>\n",
       "      <th>size</th>\n",
       "    </tr>\n",
       "  </thead>\n",
       "  <tbody>\n",
       "    <tr>\n",
       "      <th>count</th>\n",
       "      <td>4311.000000</td>\n",
       "      <td>4.311000e+03</td>\n",
       "      <td>4311.000000</td>\n",
       "      <td>4.311000e+03</td>\n",
       "    </tr>\n",
       "    <tr>\n",
       "      <th>mean</th>\n",
       "      <td>4.163535</td>\n",
       "      <td>5.789754e+03</td>\n",
       "      <td>0.677878</td>\n",
       "      <td>1.759569e+08</td>\n",
       "    </tr>\n",
       "    <tr>\n",
       "      <th>std</th>\n",
       "      <td>0.596239</td>\n",
       "      <td>5.592425e+04</td>\n",
       "      <td>2.910916</td>\n",
       "      <td>2.866278e+08</td>\n",
       "    </tr>\n",
       "    <tr>\n",
       "      <th>min</th>\n",
       "      <td>1.500000</td>\n",
       "      <td>3.000000e+01</td>\n",
       "      <td>0.000000</td>\n",
       "      <td>2.158400e+05</td>\n",
       "    </tr>\n",
       "    <tr>\n",
       "      <th>25%</th>\n",
       "      <td>4.000000</td>\n",
       "      <td>7.000000e+01</td>\n",
       "      <td>0.000000</td>\n",
       "      <td>4.073626e+07</td>\n",
       "    </tr>\n",
       "    <tr>\n",
       "      <th>50%</th>\n",
       "      <td>4.500000</td>\n",
       "      <td>2.210000e+02</td>\n",
       "      <td>0.000000</td>\n",
       "      <td>9.730048e+07</td>\n",
       "    </tr>\n",
       "    <tr>\n",
       "      <th>75%</th>\n",
       "      <td>4.500000</td>\n",
       "      <td>1.192000e+03</td>\n",
       "      <td>0.000000</td>\n",
       "      <td>2.085176e+08</td>\n",
       "    </tr>\n",
       "    <tr>\n",
       "      <th>max</th>\n",
       "      <td>5.000000</td>\n",
       "      <td>3.032734e+06</td>\n",
       "      <td>139.990000</td>\n",
       "      <td>4.005591e+09</td>\n",
       "    </tr>\n",
       "  </tbody>\n",
       "</table>\n",
       "</div>"
      ],
      "text/plain": [
       "       average_user_rating  user_rating_count        price          size\n",
       "count          4311.000000       4.311000e+03  4311.000000  4.311000e+03\n",
       "mean              4.163535       5.789754e+03     0.677878  1.759569e+08\n",
       "std               0.596239       5.592425e+04     2.910916  2.866278e+08\n",
       "min               1.500000       3.000000e+01     0.000000  2.158400e+05\n",
       "25%               4.000000       7.000000e+01     0.000000  4.073626e+07\n",
       "50%               4.500000       2.210000e+02     0.000000  9.730048e+07\n",
       "75%               4.500000       1.192000e+03     0.000000  2.085176e+08\n",
       "max               5.000000       3.032734e+06   139.990000  4.005591e+09"
      ]
     },
     "execution_count": 42,
     "metadata": {},
     "output_type": "execute_result"
    }
   ],
   "source": [
    "games.describe()"
   ]
  },
  {
   "cell_type": "code",
   "execution_count": 43,
   "metadata": {},
   "outputs": [
    {
     "data": {
      "text/plain": [
       "id\n",
       "529479190     3032734.0\n",
       "1053012308    1277095.0\n",
       "1330123889     711409.0\n",
       "597986893      469562.0\n",
       "1094591345     439776.0\n",
       "672150402      400787.0\n",
       "1270598321     374772.0\n",
       "1116645064     283035.0\n",
       "297558390      273687.0\n",
       "847985808      259030.0\n",
       "Name: user_rating_count, dtype: float64"
      ]
     },
     "execution_count": 43,
     "metadata": {},
     "output_type": "execute_result"
    }
   ],
   "source": [
    "games['user_rating_count'].sort_values(ascending=False).head(10)"
   ]
  },
  {
   "cell_type": "code",
   "execution_count": 44,
   "metadata": {},
   "outputs": [
    {
     "data": {
      "text/plain": [
       "40"
      ]
     },
     "execution_count": 44,
     "metadata": {},
     "output_type": "execute_result"
    }
   ],
   "source": [
    "(games['user_rating_count'] >= 100000).sum()"
   ]
  },
  {
   "cell_type": "markdown",
   "metadata": {},
   "source": [
    "### 7.2.5 Exercise: calculating descriptive statistics "
   ]
  },
  {
   "cell_type": "code",
   "execution_count": null,
   "metadata": {},
   "outputs": [],
   "source": []
  },
  {
   "cell_type": "code",
   "execution_count": null,
   "metadata": {},
   "outputs": [],
   "source": []
  },
  {
   "cell_type": "markdown",
   "metadata": {},
   "source": [
    "## 7.3 Exploratory Data Analysis"
   ]
  },
  {
   "cell_type": "code",
   "execution_count": 48,
   "metadata": {},
   "outputs": [
    {
     "name": "stdout",
     "output_type": "stream",
     "text": [
      "<class 'pandas.core.frame.DataFrame'>\n",
      "Int64Index: 4311 entries, 284921427 to 1474461379\n",
      "Data columns (total 15 columns):\n",
      "name                            4311 non-null object\n",
      "subtitle                        1788 non-null object\n",
      "average_user_rating             4311 non-null float64\n",
      "user_rating_count               4311 non-null float64\n",
      "price                           4311 non-null float64\n",
      "in-app_purchases                2998 non-null object\n",
      "description                     4311 non-null object\n",
      "developer                       4311 non-null object\n",
      "age_rating                      4311 non-null object\n",
      "languages                       4297 non-null object\n",
      "size                            4311 non-null float64\n",
      "primary_genre                   4311 non-null object\n",
      "genres                          4311 non-null object\n",
      "original_release_date           4311 non-null datetime64[ns]\n",
      "current_version_release_date    4311 non-null datetime64[ns]\n",
      "dtypes: datetime64[ns](2), float64(4), object(9)\n",
      "memory usage: 538.9+ KB\n"
     ]
    }
   ],
   "source": [
    "games.info()"
   ]
  },
  {
   "cell_type": "code",
   "execution_count": 49,
   "metadata": {},
   "outputs": [],
   "source": [
    "games['size'] = games['size']/1e6"
   ]
  },
  {
   "cell_type": "code",
   "execution_count": 50,
   "metadata": {},
   "outputs": [
    {
     "data": {
      "image/png": "[encoded data removed]",
      "text/plain": [
       "<Figure size 432x288 with 1 Axes>"
      ]
     },
     "metadata": {
      "needs_background": "light"
     },
     "output_type": "display_data"
    }
   ],
   "source": [
    "games['size'].hist(bins=30, ec='black');"
   ]
  },
  {
   "cell_type": "code",
   "execution_count": 51,
   "metadata": {},
   "outputs": [
    {
     "data": {
      "text/plain": [
       "count    4311.000000\n",
       "mean      175.956867\n",
       "std       286.627800\n",
       "min         0.215840\n",
       "25%        40.736256\n",
       "50%        97.300480\n",
       "75%       208.517632\n",
       "max      4005.591040\n",
       "Name: size, dtype: float64"
      ]
     },
     "execution_count": 51,
     "metadata": {},
     "output_type": "execute_result"
    }
   ],
   "source": [
    "games['size'].describe()"
   ]
  },
  {
   "cell_type": "code",
   "execution_count": 52,
   "metadata": {},
   "outputs": [
    {
     "data": {
      "text/plain": [
       "id\n",
       "1245565445    4005.591040\n",
       "1106831630    3916.692480\n",
       "633625517     3747.742720\n",
       "1235863443    3716.897792\n",
       "1183898700    3599.435776\n",
       "881270303     3518.277632\n",
       "1107741196    3321.082880\n",
       "909472985     2996.021248\n",
       "1321791212    2897.696768\n",
       "1298734617    2581.730304\n",
       "1264531625    2547.534848\n",
       "1257031979    2512.028672\n",
       "Name: size, dtype: float64"
      ]
     },
     "execution_count": 52,
     "metadata": {},
     "output_type": "execute_result"
    }
   ],
   "source": [
    "games['size'].sort_values(ascending=False).head(12)"
   ]
  },
  {
   "cell_type": "code",
   "execution_count": 53,
   "metadata": {},
   "outputs": [
    {
     "data": {
      "image/png": "[encoded data removed]",
      "text/plain": [
       "<Figure size 720x288 with 4 Axes>"
      ]
     },
     "metadata": {
      "needs_background": "light"
     },
     "output_type": "display_data"
    }
   ],
   "source": [
    "games.hist(\n",
    "    figsize = (10, 4),\n",
    "    bins = 30,\n",
    "    ec = 'black'\n",
    ");\n",
    "# This line prints the four plots without overlap\n",
    "plt.tight_layout()"
   ]
  },
  {
   "cell_type": "code",
   "execution_count": 54,
   "metadata": {},
   "outputs": [
    {
     "data": {
      "image/png": "[encoded data removed]",
      "text/plain": [
       "<Figure size 720x288 with 4 Axes>"
      ]
     },
     "metadata": {
      "needs_background": "light"
     },
     "output_type": "display_data"
    }
   ],
   "source": [
    "filter_price = games['price'] <= games['price'].quantile(0.99)\n",
    "filter_user_rating_count = games['user_rating_count'] <= games['user_rating_count'].quantile(0.99)\n",
    "filter_size = games['size'] <= games['size'].quantile(0.99)\n",
    "filter_exclude_top_1_percent = filter_price & filter_user_rating_count & filter_size\n",
    "\n",
    "games[filter_exclude_top_1_percent].hist(\n",
    "    figsize = (10, 4),\n",
    "    bins = 30,\n",
    "    ec = 'black'\n",
    ");\n",
    "# This line prints the four plots without overlap\n",
    "plt.tight_layout()"
   ]
  },
  {
   "cell_type": "code",
   "execution_count": 55,
   "metadata": {},
   "outputs": [
    {
     "data": {
      "image/png": "[encoded data removed]",
      "text/plain": [
       "<Figure size 432x288 with 1 Axes>"
      ]
     },
     "metadata": {
      "needs_background": "light"
     },
     "output_type": "display_data"
    }
   ],
   "source": [
    "mens_heights.plot(kind='box');"
   ]
  },
  {
   "cell_type": "code",
   "execution_count": 56,
   "metadata": {},
   "outputs": [
    {
     "data": {
      "image/png": "[encoded data removed]",
      "text/plain": [
       "<Figure size 432x288 with 1 Axes>"
      ]
     },
     "metadata": {
      "needs_background": "light"
     },
     "output_type": "display_data"
    }
   ],
   "source": [
    "games['size'].plot(kind='box');"
   ]
  },
  {
   "cell_type": "code",
   "execution_count": 57,
   "metadata": {},
   "outputs": [
    {
     "data": {
      "text/plain": [
       "4+     2287\n",
       "9+      948\n",
       "12+     925\n",
       "17+     151\n",
       "Name: age_rating, dtype: int64"
      ]
     },
     "execution_count": 57,
     "metadata": {},
     "output_type": "execute_result"
    }
   ],
   "source": [
    "games['age_rating'].value_counts()"
   ]
  },
  {
   "cell_type": "code",
   "execution_count": 58,
   "metadata": {},
   "outputs": [
    {
     "data": {
      "image/png": "[encoded data removed]",
      "text/plain": [
       "<Figure size 432x288 with 1 Axes>"
      ]
     },
     "metadata": {
      "needs_background": "light"
     },
     "output_type": "display_data"
    }
   ],
   "source": [
    "games['age_rating'].value_counts().plot(kind = 'bar');"
   ]
  },
  {
   "cell_type": "code",
   "execution_count": 59,
   "metadata": {},
   "outputs": [
    {
     "data": {
      "image/png": "[encoded data removed]",
      "text/plain": [
       "<Figure size 432x288 with 1 Axes>"
      ]
     },
     "metadata": {
      "needs_background": "light"
     },
     "output_type": "display_data"
    }
   ],
   "source": [
    "games['age_rating'].value_counts(normalize=True).plot(kind='bar');"
   ]
  },
  {
   "cell_type": "code",
   "execution_count": 60,
   "metadata": {},
   "outputs": [
    {
     "data": {
      "image/png": "[encoded data removed]",
      "text/plain": [
       "<Figure size 432x288 with 1 Axes>"
      ]
     },
     "metadata": {},
     "output_type": "display_data"
    }
   ],
   "source": [
    "games['age_rating'].value_counts().plot(kind = 'pie');"
   ]
  },
  {
   "cell_type": "code",
   "execution_count": 61,
   "metadata": {},
   "outputs": [
    {
     "name": "stdout",
     "output_type": "stream",
     "text": [
      "4+: 53.1%\n",
      "9+: 22.0%\n",
      "12+: 21.5%\n",
      "17+: 3.5%\n"
     ]
    }
   ],
   "source": [
    "percentages = 100*games['age_rating'].value_counts(normalize=True)\n",
    "for k, x in percentages.items():\n",
    "    print(f'{k}: {x:0.1f}%')"
   ]
  },
  {
   "cell_type": "markdown",
   "metadata": {},
   "source": [
    "### 7.3.4 Bi-variate EDA: exploring relationships between variables"
   ]
  },
  {
   "cell_type": "code",
   "execution_count": 62,
   "metadata": {},
   "outputs": [
    {
     "data": {
      "image/png": "[encoded data removed]",
      "text/plain": [
       "<Figure size 432x288 with 1 Axes>"
      ]
     },
     "metadata": {
      "needs_background": "light"
     },
     "output_type": "display_data"
    }
   ],
   "source": [
    "sns.scatterplot(\n",
    "    x='size',\n",
    "    y='average_user_rating',\n",
    "    data=games,\n",
    "    s=20 # this is for controlling  the size of the points\n",
    ");"
   ]
  },
  {
   "cell_type": "code",
   "execution_count": 63,
   "metadata": {},
   "outputs": [],
   "source": [
    "ratings_mapping = {\n",
    "    1.5: '1_poor',\n",
    "    2.: '1_poor',\n",
    "    2.5: '1_poor',\n",
    "    3.: '1_poor',\n",
    "    3.5: '2_fair',\n",
    "    4. : '2_fair',\n",
    "    4.5: '3_good',\n",
    "    5. : '4_excellent'\n",
    "}\n",
    "\n",
    "games['cat_rating'] = games['average_user_rating'].map(ratings_mapping)"
   ]
  },
  {
   "cell_type": "code",
   "execution_count": 64,
   "metadata": {},
   "outputs": [
    {
     "data": {
      "image/png": "[encoded data removed]",
      "text/plain": [
       "<Figure size 432x288 with 1 Axes>"
      ]
     },
     "metadata": {
      "needs_background": "light"
     },
     "output_type": "display_data"
    }
   ],
   "source": [
    "sns.boxplot(\n",
    "    x='cat_rating',\n",
    "    y='size',\n",
    "    data=games[games['size'] <= 600],\n",
    "    order = ['1_poor', '2_fair', '3_good', '4_excellent']\n",
    ");"
   ]
  },
  {
   "cell_type": "code",
   "execution_count": 65,
   "metadata": {},
   "outputs": [
    {
     "data": {
      "image/png": "[encoded data removed]",
      "text/plain": [
       "<Figure size 432x288 with 1 Axes>"
      ]
     },
     "metadata": {
      "needs_background": "light"
     },
     "output_type": "display_data"
    }
   ],
   "source": [
    "sns.boxplot(\n",
    "    x='cat_rating',\n",
    "    y='size',\n",
    "    data=games[games['size'] > 500],\n",
    "    order = ['1_poor', '2_fair', '3_good', '4_excellent']\n",
    ");"
   ]
  },
  {
   "cell_type": "code",
   "execution_count": 66,
   "metadata": {},
   "outputs": [
    {
     "data": {
      "text/html": [
       "<div>\n",
       "<style scoped>\n",
       "    .dataframe tbody tr th:only-of-type {\n",
       "        vertical-align: middle;\n",
       "    }\n",
       "\n",
       "    .dataframe tbody tr th {\n",
       "        vertical-align: top;\n",
       "    }\n",
       "\n",
       "    .dataframe thead th {\n",
       "        text-align: right;\n",
       "    }\n",
       "</style>\n",
       "<table border=\"1\" class=\"dataframe\">\n",
       "  <thead>\n",
       "    <tr style=\"text-align: right;\">\n",
       "      <th>cat_rating</th>\n",
       "      <th>1_poor</th>\n",
       "      <th>2_fair</th>\n",
       "      <th>3_good</th>\n",
       "      <th>4_excellent</th>\n",
       "    </tr>\n",
       "    <tr>\n",
       "      <th>age_rating</th>\n",
       "      <th></th>\n",
       "      <th></th>\n",
       "      <th></th>\n",
       "      <th></th>\n",
       "    </tr>\n",
       "  </thead>\n",
       "  <tbody>\n",
       "    <tr>\n",
       "      <th>12+</th>\n",
       "      <td>57</td>\n",
       "      <td>327</td>\n",
       "      <td>466</td>\n",
       "      <td>75</td>\n",
       "    </tr>\n",
       "    <tr>\n",
       "      <th>17+</th>\n",
       "      <td>11</td>\n",
       "      <td>59</td>\n",
       "      <td>68</td>\n",
       "      <td>13</td>\n",
       "    </tr>\n",
       "    <tr>\n",
       "      <th>4+</th>\n",
       "      <td>238</td>\n",
       "      <td>821</td>\n",
       "      <td>1029</td>\n",
       "      <td>199</td>\n",
       "    </tr>\n",
       "    <tr>\n",
       "      <th>9+</th>\n",
       "      <td>57</td>\n",
       "      <td>309</td>\n",
       "      <td>499</td>\n",
       "      <td>83</td>\n",
       "    </tr>\n",
       "  </tbody>\n",
       "</table>\n",
       "</div>"
      ],
      "text/plain": [
       "cat_rating  1_poor  2_fair  3_good  4_excellent\n",
       "age_rating                                     \n",
       "12+             57     327     466           75\n",
       "17+             11      59      68           13\n",
       "4+             238     821    1029          199\n",
       "9+              57     309     499           83"
      ]
     },
     "execution_count": 66,
     "metadata": {},
     "output_type": "execute_result"
    }
   ],
   "source": [
    "pd.crosstab(\n",
    "    games['age_rating'],\n",
    "    games['cat_rating']\n",
    ")"
   ]
  },
  {
   "cell_type": "code",
   "execution_count": 67,
   "metadata": {},
   "outputs": [
    {
     "data": {
      "text/html": [
       "<div>\n",
       "<style scoped>\n",
       "    .dataframe tbody tr th:only-of-type {\n",
       "        vertical-align: middle;\n",
       "    }\n",
       "\n",
       "    .dataframe tbody tr th {\n",
       "        vertical-align: top;\n",
       "    }\n",
       "\n",
       "    .dataframe thead th {\n",
       "        text-align: right;\n",
       "    }\n",
       "</style>\n",
       "<table border=\"1\" class=\"dataframe\">\n",
       "  <thead>\n",
       "    <tr style=\"text-align: right;\">\n",
       "      <th>cat_rating</th>\n",
       "      <th>1_poor</th>\n",
       "      <th>2_fair</th>\n",
       "      <th>3_good</th>\n",
       "      <th>4_excellent</th>\n",
       "    </tr>\n",
       "    <tr>\n",
       "      <th>age_rating</th>\n",
       "      <th></th>\n",
       "      <th></th>\n",
       "      <th></th>\n",
       "      <th></th>\n",
       "    </tr>\n",
       "  </thead>\n",
       "  <tbody>\n",
       "    <tr>\n",
       "      <th>12+</th>\n",
       "      <td>6.162162</td>\n",
       "      <td>35.351351</td>\n",
       "      <td>50.378378</td>\n",
       "      <td>8.108108</td>\n",
       "    </tr>\n",
       "    <tr>\n",
       "      <th>17+</th>\n",
       "      <td>7.284768</td>\n",
       "      <td>39.072848</td>\n",
       "      <td>45.033113</td>\n",
       "      <td>8.609272</td>\n",
       "    </tr>\n",
       "    <tr>\n",
       "      <th>4+</th>\n",
       "      <td>10.406646</td>\n",
       "      <td>35.898557</td>\n",
       "      <td>44.993441</td>\n",
       "      <td>8.701355</td>\n",
       "    </tr>\n",
       "    <tr>\n",
       "      <th>9+</th>\n",
       "      <td>6.012658</td>\n",
       "      <td>32.594937</td>\n",
       "      <td>52.637131</td>\n",
       "      <td>8.755274</td>\n",
       "    </tr>\n",
       "  </tbody>\n",
       "</table>\n",
       "</div>"
      ],
      "text/plain": [
       "cat_rating     1_poor     2_fair     3_good  4_excellent\n",
       "age_rating                                              \n",
       "12+          6.162162  35.351351  50.378378     8.108108\n",
       "17+          7.284768  39.072848  45.033113     8.609272\n",
       "4+          10.406646  35.898557  44.993441     8.701355\n",
       "9+           6.012658  32.594937  52.637131     8.755274"
      ]
     },
     "execution_count": 67,
     "metadata": {},
     "output_type": "execute_result"
    }
   ],
   "source": [
    "100*pd.crosstab(\n",
    "    games['age_rating'],\n",
    "    games['cat_rating'],\n",
    "    normalize='index'\n",
    ")"
   ]
  },
  {
   "cell_type": "markdown",
   "metadata": {},
   "source": [
    "### 7.3.5 Exercise: practicing EDA  "
   ]
  },
  {
   "cell_type": "code",
   "execution_count": null,
   "metadata": {},
   "outputs": [],
   "source": []
  },
  {
   "cell_type": "code",
   "execution_count": null,
   "metadata": {},
   "outputs": [],
   "source": []
  }
 ],
 "metadata": {
  "kernelspec": {
   "display_name": "Python 3",
   "language": "python",
   "name": "python3"
  },
  "language_info": {
   "codemirror_mode": {
    "name": "ipython",
    "version": 3
   },
   "file_extension": ".py",
   "mimetype": "text/x-python",
   "name": "python",
   "nbconvert_exporter": "python",
   "pygments_lexer": "ipython3",
   "version": "3.7.5"
  }
 },
 "nbformat": 4,
 "nbformat_minor": 2
}
