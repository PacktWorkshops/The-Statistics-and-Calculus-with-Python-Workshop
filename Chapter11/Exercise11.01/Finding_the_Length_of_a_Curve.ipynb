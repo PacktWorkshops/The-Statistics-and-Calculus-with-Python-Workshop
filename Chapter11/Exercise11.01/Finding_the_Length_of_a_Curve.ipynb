{
 "cells": [
  {
   "cell_type": "code",
   "execution_count": 1,
   "metadata": {},
   "outputs": [
    {
     "name": "stdout",
     "output_type": "stream",
     "text": [
      "3.1415663562164773\n"
     ]
    }
   ],
   "source": [
    "from math import sqrt\n",
    "\n",
    "def derivative(f,x):\n",
    "    \"\"\"Returns the value of the derivative of\n",
    "    the function at a given x-value.\"\"\"\n",
    "    delta_x = 1/1000000\n",
    "    return (f(x+delta_x) - f(x))/delta_x\n",
    "\n",
    "def trap_integral(f,a,b,num):\n",
    "    \"\"\"Returns the sum of num trapezoids\n",
    "    under f between a and b\"\"\"\n",
    "    width = (b-a)/num\n",
    "    area = 0.5*width*(f(a) + f(b) + 2*sum([f(a+width*n) \\\n",
    "                                        for n in range(num)]))\n",
    "    return area\n",
    "\n",
    "def circle(x):\n",
    "    return sqrt(1-x**2)\n",
    "\n",
    "def curve_length2(f,a,b,num=1000):\n",
    "    \"\"\"Returns the length of f between\n",
    "    a and b using num slices\"\"\"\n",
    "    output = 0\n",
    "    width = (b-a)/num\n",
    "    for i in range(num):\n",
    "        output += sqrt((f(a+(i+1)*width)-f(a+i*width))**2 + width**2)\n",
    "    return output\n",
    "\n",
    "print(curve_length2 (circle,-1,1))"
   ]
  },
  {
   "cell_type": "code",
   "execution_count": null,
   "metadata": {},
   "outputs": [],
   "source": []
  }
 ],
 "metadata": {
  "kernelspec": {
   "display_name": "Python 3",
   "language": "python",
   "name": "python3"
  },
  "language_info": {
   "codemirror_mode": {
    "name": "ipython",
    "version": 3
   },
   "file_extension": ".py",
   "mimetype": "text/x-python",
   "name": "python",
   "nbconvert_exporter": "python",
   "pygments_lexer": "ipython3",
   "version": "3.7.3"
  }
 },
 "nbformat": 4,
 "nbformat_minor": 2
}
