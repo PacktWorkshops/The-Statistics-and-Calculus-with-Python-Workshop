{
 "cells": [
  {
   "cell_type": "code",
   "execution_count": 11,
   "metadata": {},
   "outputs": [
    {
     "name": "stdout",
     "output_type": "stream",
     "text": [
      "Surface: 0.49668144077365484\n",
      "partial_d: 6.22411285535307\n",
      "4.69 4.08 0.21\n",
      "Out of Bounds\n"
     ]
    }
   ],
   "source": [
    "import random\n",
    "from math import sin, cos,sqrt,pi\n",
    "\n",
    "def surface(x,y):\n",
    "    return 3*cos(x)+5*x*cos(x)*cos(y)\n",
    "\n",
    "    \n",
    "def partial_d(f,u,v,w,num=10000):\n",
    "    \"\"\"returns the partial derivative of f\n",
    "    with respect to u at (v,w)\"\"\"\n",
    "    delta_u = 1/num\n",
    "    try:\n",
    "        if u == 'x':\n",
    "            return (f(v+delta_u,w) - f(v,w))/delta_u\n",
    "        else:\n",
    "            return (f(v,w+delta_u) - f(v,w))/delta_u\n",
    "    except ValueError:\n",
    "        pass\n",
    "\n",
    "def min_of_surface(f,a,b,c,d,step = 0.01):\n",
    "    x,y = random.uniform(a,b),random.uniform(c,d)\n",
    "    print(round(x,2),round(y,2),round(f(x,y),2))\n",
    "    for i in range(100000):\n",
    "        dz_dx = partial_d(f,'x',x,y,10000)\n",
    "        dz_dy = partial_d(f,'y',x,y,10000)\n",
    "        if abs(dz_dx) < 0.001 and abs(dz_dy) < 0.001:\n",
    "            print(\"Minimum:\",round(x,2),round(y,2),round(f(x,y),2))\n",
    "            break\n",
    "        x -= dz_dx*step\n",
    "        y -= dz_dy*step\n",
    "        if x < a or x > b or y < c or y > d:\n",
    "            print(\"Out of Bounds\")\n",
    "            break\n",
    "    \n",
    "print(\"Surface:\",surface(1,2))\n",
    "print(\"partial_d:\",partial_d(surface,'x',2,2.5))\n",
    "#for i in range(10):\n",
    "min_of_surface(surface,-1,5,-1,5)"
   ]
  },
  {
   "cell_type": "code",
   "execution_count": null,
   "metadata": {},
   "outputs": [],
   "source": []
  },
  {
   "cell_type": "code",
   "execution_count": null,
   "metadata": {},
   "outputs": [],
   "source": []
  }
 ],
 "metadata": {
  "kernelspec": {
   "display_name": "Python 3",
   "language": "python",
   "name": "python3"
  },
  "language_info": {
   "codemirror_mode": {
    "name": "ipython",
    "version": 3
   },
   "file_extension": ".py",
   "mimetype": "text/x-python",
   "name": "python",
   "nbconvert_exporter": "python",
   "pygments_lexer": "ipython3",
   "version": "3.6.9"
  }
 },
 "nbformat": 4,
 "nbformat_minor": 2
}
