{
 "cells": [
  {
   "cell_type": "code",
   "execution_count": 5,
   "metadata": {},
   "outputs": [
    {
     "name": "stdout",
     "output_type": "stream",
     "text": [
      "Cross: [-3, 6, -3]\n",
      "Mag: 3.7416573867739413\n",
      "Partial d: 4.360969838623774\n",
      "Surface: 7.86749131547214\n",
      "Area of wave surface: 608.2832236305994\n"
     ]
    }
   ],
   "source": [
    "from math import sin, cos,sqrt\n",
    "#import numpy\n",
    "\n",
    "def surface(x,y):\n",
    "    return 10*sin(sqrt(x**2+y**2))\n",
    "\n",
    "def cross(u,v):\n",
    "    \"\"\"Returns the cross product of 2 3D vectors\n",
    "    [[i,j,k],\n",
    "     [1,0,dz/dx],\n",
    "     [0,1,dz,dy]]\n",
    "     \n",
    "     cross([1,-1,2],[2,3,-5])\n",
    "     >>> [-1, -9, 5]\n",
    "     \"\"\"\n",
    "    return [u[1]*v[2]-v[1]*u[2],\n",
    "            -u[0]*v[2]+v[0]*u[2],\n",
    "            u[0]*v[1]-v[0]*u[1]]\n",
    "\n",
    "#print(\"Cross:\",cross([2,3,4],[5,6,7]))\n",
    "\n",
    "def mag(vec):\n",
    "    \"\"\"Returns the magnitude of a 3D vector\"\"\"\n",
    "    return sqrt(vec[0]**2+vec[1]**2+vec[2]**2)\n",
    "\n",
    "    \n",
    "def partial_d(f,u,v,w,num=10000):\n",
    "    \"\"\"returns the partial derivative of f\n",
    "    with respect to u at (v,w)\"\"\"\n",
    "    delta_u = 1/num\n",
    "    try:\n",
    "        if u == 'x':\n",
    "            return (f(v+delta_u,w) - f(v,w))/delta_u\n",
    "        else:\n",
    "            return (f(v,w+delta_u) - f(v,w))/delta_u\n",
    "    except ValueError:\n",
    "        pass\n",
    "\n",
    "def area(f,ax,bx,ay,by,num=1000):\n",
    "    \"\"\"Returns area of parallelogram formed by\n",
    "        vectors with given partial derivs\"\"\"\n",
    "    running_sum = 0\n",
    "    dx = (bx-ax)/num\n",
    "    dy = (by-ay)/num\n",
    "    for i in range(num):\n",
    "        for j in range(num):\n",
    "            x = ax+i*dx\n",
    "            y = ay+j*dy\n",
    "            dz_dx=partial_d(f,'x',x,y)\n",
    "            dz_dy=partial_d(f,'y',x,y)\n",
    "            #print(dz_dx,dz_dy)\n",
    "            try:\n",
    "                running_sum += mag(cross([1,0,dz_dx],[0,1,dz_dy]))*dx*dy\n",
    "            except ValueError:\n",
    "                pass\n",
    "    return running_sum\n",
    "\n",
    "print(\"Cross:\",cross([2,3,4],[5,6,7]))\n",
    "print(\"Mag:\",mag([1,2,-3]))\n",
    "print(\"Partial d:\",partial_d(surface,'x',0.1,0.2,10))\n",
    "print(\"Surface:\",surface(1,2))\n",
    "print(\"Area of wave surface:\",area(surface,-5,5,-5,5))"
   ]
  },
  {
   "cell_type": "raw",
   "metadata": {},
   "source": []
  }
 ],
 "metadata": {
  "kernelspec": {
   "display_name": "Python 3",
   "language": "python",
   "name": "python3"
  },
  "language_info": {
   "codemirror_mode": {
    "name": "ipython",
    "version": 3
   },
   "file_extension": ".py",
   "mimetype": "text/x-python",
   "name": "python",
   "nbconvert_exporter": "python",
   "pygments_lexer": "ipython3",
   "version": "3.7.3"
  }
 },
 "nbformat": 4,
 "nbformat_minor": 2
}
