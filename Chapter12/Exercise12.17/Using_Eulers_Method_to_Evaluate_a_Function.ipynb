{
 "cells": [
  {
   "cell_type": "code",
   "execution_count": 1,
   "metadata": {},
   "outputs": [
    {
     "name": "stdout",
     "output_type": "stream",
     "text": [
      "1.48695561935322\n"
     ]
    }
   ],
   "source": [
    "def euler(x0,y0,target_x,stepsize):\n",
    "    x,y = x0,y0\n",
    "    while x<target_x:\n",
    "        slope = x+y**2 #from diff eq\n",
    "        x += stepsize\n",
    "        y += stepsize*slope\n",
    "    return y\n",
    "\n",
    "print(euler(0,1,0.3,0.001))\n"
   ]
  },
  {
   "cell_type": "code",
   "execution_count": null,
   "metadata": {},
   "outputs": [],
   "source": []
  }
 ],
 "metadata": {
  "kernelspec": {
   "display_name": "Python 3",
   "language": "python",
   "name": "python3"
  },
  "language_info": {
   "codemirror_mode": {
    "name": "ipython",
    "version": 3
   },
   "file_extension": ".py",
   "mimetype": "text/x-python",
   "name": "python",
   "nbconvert_exporter": "python",
   "pygments_lexer": "ipython3",
   "version": "3.7.3"
  }
 },
 "nbformat": 4,
 "nbformat_minor": 2
}
