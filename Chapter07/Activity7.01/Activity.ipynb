{
 "cells": [
  {
   "cell_type": "code",
   "execution_count": 1,
   "metadata": {},
   "outputs": [],
   "source": [
    "import pandas as pd\n",
    "import numpy as np"
   ]
  },
  {
   "cell_type": "code",
   "execution_count": 2,
   "metadata": {},
   "outputs": [],
   "source": [
    "games = pd.read_csv('../data/appstore_games.csv')"
   ]
  },
  {
   "cell_type": "code",
   "execution_count": 3,
   "metadata": {},
   "outputs": [],
   "source": [
    "original_colums_dict = {x: x.lower().replace(' ','_') for x in games.columns}\n",
    "\n",
    "games.rename(\n",
    "    columns = original_colums_dict,\n",
    "    inplace = True\n",
    ")\n",
    "\n",
    "games.set_index(\n",
    "    keys = 'id',\n",
    "    inplace = True\n",
    ")\n",
    "\n",
    "games.drop(\n",
    "    columns = ['url', 'icon_url'],\n",
    "    inplace = True\n",
    ")\n",
    "\n",
    "games['original_release_date'] = pd.to_datetime(games['original_release_date'])\n",
    "games['current_version_release_date'] = pd.to_datetime(games['current_version_release_date'])\n",
    "\n",
    "games = games.loc[games['average_user_rating'].notnull()]\n",
    "\n",
    "games = games.loc[games['user_rating_count'] >= 30]"
   ]
  },
  {
   "cell_type": "code",
   "execution_count": 4,
   "metadata": {},
   "outputs": [
    {
     "data": {
      "text/plain": [
       "(4311, 15)"
      ]
     },
     "execution_count": 4,
     "metadata": {},
     "output_type": "execute_result"
    }
   ],
   "source": [
    "games.shape"
   ]
  },
  {
   "cell_type": "code",
   "execution_count": 5,
   "metadata": {},
   "outputs": [],
   "source": [
    "games['languages'] = games['languages'].fillna('EN')"
   ]
  },
  {
   "cell_type": "code",
   "execution_count": 6,
   "metadata": {},
   "outputs": [],
   "source": [
    "games['free_game'] = (games['price'] == 0).astype(int).map({0:'paid', 1:'free'})"
   ]
  },
  {
   "cell_type": "code",
   "execution_count": 7,
   "metadata": {},
   "outputs": [],
   "source": [
    "number_of_languages = games['languages'].str.split(',').apply(lambda x: len(x))\n",
    "games['multilingual'] = number_of_languages == 1\n",
    "games['multilingual'] = games['multilingual'].astype(int).map({0:'multilingual', 1:'monolingual'})"
   ]
  },
  {
   "cell_type": "code",
   "execution_count": 8,
   "metadata": {},
   "outputs": [],
   "source": [
    "games['price_language'] = games['free_game'] + '-' + games['multilingual']"
   ]
  },
  {
   "cell_type": "code",
   "execution_count": 9,
   "metadata": {},
   "outputs": [
    {
     "data": {
      "text/plain": [
       "free-monolingual     2105\n",
       "free-multilingual    1439\n",
       "paid-monolingual      467\n",
       "paid-multilingual     300\n",
       "Name: price_language, dtype: int64"
      ]
     },
     "execution_count": 9,
     "metadata": {},
     "output_type": "execute_result"
    }
   ],
   "source": [
    "games['price_language'].value_counts()"
   ]
  },
  {
   "cell_type": "code",
   "execution_count": 10,
   "metadata": {},
   "outputs": [
    {
     "data": {
      "text/html": [
       "<div>\n",
       "<style scoped>\n",
       "    .dataframe tbody tr th:only-of-type {\n",
       "        vertical-align: middle;\n",
       "    }\n",
       "\n",
       "    .dataframe tbody tr th {\n",
       "        vertical-align: top;\n",
       "    }\n",
       "\n",
       "    .dataframe thead th {\n",
       "        text-align: right;\n",
       "    }\n",
       "</style>\n",
       "<table border=\"1\" class=\"dataframe\">\n",
       "  <thead>\n",
       "    <tr style=\"text-align: right;\">\n",
       "      <th></th>\n",
       "      <th>count</th>\n",
       "      <th>mean</th>\n",
       "      <th>std</th>\n",
       "      <th>min</th>\n",
       "      <th>25%</th>\n",
       "      <th>50%</th>\n",
       "      <th>75%</th>\n",
       "      <th>max</th>\n",
       "    </tr>\n",
       "    <tr>\n",
       "      <th>price_language</th>\n",
       "      <th></th>\n",
       "      <th></th>\n",
       "      <th></th>\n",
       "      <th></th>\n",
       "      <th></th>\n",
       "      <th></th>\n",
       "      <th></th>\n",
       "      <th></th>\n",
       "    </tr>\n",
       "  </thead>\n",
       "  <tbody>\n",
       "    <tr>\n",
       "      <th>free-monolingual</th>\n",
       "      <td>2105.0</td>\n",
       "      <td>4.129216</td>\n",
       "      <td>0.634426</td>\n",
       "      <td>1.5</td>\n",
       "      <td>4.0</td>\n",
       "      <td>4.5</td>\n",
       "      <td>4.5</td>\n",
       "      <td>5.0</td>\n",
       "    </tr>\n",
       "    <tr>\n",
       "      <th>free-multilingual</th>\n",
       "      <td>1439.0</td>\n",
       "      <td>4.227589</td>\n",
       "      <td>0.525904</td>\n",
       "      <td>1.5</td>\n",
       "      <td>4.0</td>\n",
       "      <td>4.5</td>\n",
       "      <td>4.5</td>\n",
       "      <td>5.0</td>\n",
       "    </tr>\n",
       "    <tr>\n",
       "      <th>paid-monolingual</th>\n",
       "      <td>467.0</td>\n",
       "      <td>4.064240</td>\n",
       "      <td>0.657693</td>\n",
       "      <td>1.5</td>\n",
       "      <td>3.5</td>\n",
       "      <td>4.0</td>\n",
       "      <td>4.5</td>\n",
       "      <td>5.0</td>\n",
       "    </tr>\n",
       "    <tr>\n",
       "      <th>paid-multilingual</th>\n",
       "      <td>300.0</td>\n",
       "      <td>4.251667</td>\n",
       "      <td>0.486435</td>\n",
       "      <td>2.5</td>\n",
       "      <td>4.0</td>\n",
       "      <td>4.5</td>\n",
       "      <td>4.5</td>\n",
       "      <td>5.0</td>\n",
       "    </tr>\n",
       "  </tbody>\n",
       "</table>\n",
       "</div>"
      ],
      "text/plain": [
       "                    count      mean       std  min  25%  50%  75%  max\n",
       "price_language                                                        \n",
       "free-monolingual   2105.0  4.129216  0.634426  1.5  4.0  4.5  4.5  5.0\n",
       "free-multilingual  1439.0  4.227589  0.525904  1.5  4.0  4.5  4.5  5.0\n",
       "paid-monolingual    467.0  4.064240  0.657693  1.5  3.5  4.0  4.5  5.0\n",
       "paid-multilingual   300.0  4.251667  0.486435  2.5  4.0  4.5  4.5  5.0"
      ]
     },
     "execution_count": 10,
     "metadata": {},
     "output_type": "execute_result"
    }
   ],
   "source": [
    "games.groupby('price_language')['average_user_rating'].describe()"
   ]
  },
  {
   "cell_type": "code",
   "execution_count": null,
   "metadata": {},
   "outputs": [],
   "source": []
  }
 ],
 "metadata": {
  "kernelspec": {
   "display_name": "Python 3",
   "language": "python",
   "name": "python3"
  },
  "language_info": {
   "codemirror_mode": {
    "name": "ipython",
    "version": 3
   },
   "file_extension": ".py",
   "mimetype": "text/x-python",
   "name": "python",
   "nbconvert_exporter": "python",
   "pygments_lexer": "ipython3",
   "version": "3.7.5"
  }
 },
 "nbformat": 4,
 "nbformat_minor": 2
}
