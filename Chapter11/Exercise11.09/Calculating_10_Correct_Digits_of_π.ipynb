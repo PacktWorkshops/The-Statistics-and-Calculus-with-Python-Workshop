{
 "cells": [
  {
   "cell_type": "code",
   "execution_count": 1,
   "metadata": {},
   "outputs": [
    {
     "name": "stdout",
     "output_type": "stream",
     "text": [
      "3.1415926535897922\n"
     ]
    }
   ],
   "source": [
    "def arctan(x,n):\n",
    "    \"\"\"Returns the arctangent of x using a series\n",
    "    of n terms.\"\"\"\n",
    "    return sum([((-1)**(i-1)*(x**(2*i-1)))/(2*i-1) for i in range(1,n+1)])\n",
    "\n",
    "print(4*(4*arctan(1/5,10)-arctan(1/239,10)))"
   ]
  },
  {
   "cell_type": "code",
   "execution_count": null,
   "metadata": {},
   "outputs": [],
   "source": []
  }
 ],
 "metadata": {
  "kernelspec": {
   "display_name": "Python 3",
   "language": "python",
   "name": "python3"
  },
  "language_info": {
   "codemirror_mode": {
    "name": "ipython",
    "version": 3
   },
   "file_extension": ".py",
   "mimetype": "text/x-python",
   "name": "python",
   "nbconvert_exporter": "python",
   "pygments_lexer": "ipython3",
   "version": "3.7.3"
  }
 },
 "nbformat": 4,
 "nbformat_minor": 2
}
