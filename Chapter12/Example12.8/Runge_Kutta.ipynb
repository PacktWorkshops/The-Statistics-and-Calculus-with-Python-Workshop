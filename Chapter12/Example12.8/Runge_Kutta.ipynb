{
 "cells": [
  {
   "cell_type": "code",
   "execution_count": 1,
   "metadata": {},
   "outputs": [
    {
     "name": "stdout",
     "output_type": "stream",
     "text": [
      "0 0\n",
      "0.2 0.0026668666933346665\n",
      "0.4 0.021360090381533078\n",
      "0.6000000000000001 0.0724512003541295\n",
      "0.8 0.17409018097333867\n",
      "1.0 0.35025754914481283\n"
     ]
    }
   ],
   "source": [
    "def deriv(x,y):\n",
    "    return x**2 + y**2\n",
    "\n",
    "def rk4(x0,y0,target_x,h):\n",
    "    while x0 <= target_x:\n",
    "        print(x0,y0)\n",
    "        k1 = h*deriv(x0,y0)\n",
    "        k2 = h*deriv(x0 + h/2, y0 + k1/2)\n",
    "        k3 = h*deriv(x0 + h/2, y0 + k2/2)\n",
    "        k4 = h*deriv(x0 + h, y0 + k3)\n",
    "        #These are the values that are fed back into the function:\n",
    "        y0 = y0 + (1/6)*(k1 + 2*k2 + 2*k3 + k4)\n",
    "        x0 = x0 + h\n",
    "\n",
    "rk4(0,0,1,0.2)\n"
   ]
  },
  {
   "cell_type": "code",
   "execution_count": null,
   "metadata": {},
   "outputs": [],
   "source": []
  }
 ],
 "metadata": {
  "kernelspec": {
   "display_name": "Python 3",
   "language": "python",
   "name": "python3"
  },
  "language_info": {
   "codemirror_mode": {
    "name": "ipython",
    "version": 3
   },
   "file_extension": ".py",
   "mimetype": "text/x-python",
   "name": "python",
   "nbconvert_exporter": "python",
   "pygments_lexer": "ipython3",
   "version": "3.7.3"
  }
 },
 "nbformat": 4,
 "nbformat_minor": 2
}
