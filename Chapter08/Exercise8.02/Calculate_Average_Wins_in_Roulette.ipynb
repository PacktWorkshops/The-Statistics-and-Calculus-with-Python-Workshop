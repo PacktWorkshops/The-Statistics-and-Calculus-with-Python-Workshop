{
 "cells": [
  {
   "cell_type": "code",
   "execution_count": 34,
   "metadata": {},
   "outputs": [],
   "source": [
    "import numpy as np"
   ]
  },
  {
   "cell_type": "code",
   "execution_count": 6,
   "metadata": {},
   "outputs": [],
   "source": [
    "def roulette(number_of_games=1):\n",
    "    \n",
    "    # generate the Roulette numbers\n",
    "    roulette_numbers = np.arange(0, 37)\n",
    "    \n",
    "    outcome = np.random.choice(\n",
    "        a = roulette_numbers,\n",
    "        size = number_of_games,\n",
    "        replace = True\n",
    "    )\n",
    "    return outcome"
   ]
  },
  {
   "cell_type": "code",
   "execution_count": 7,
   "metadata": {},
   "outputs": [],
   "source": [
    "def payoff(outcome, units=1):\n",
    "    # 1. Bet m units on the numbers from 19 to 36\n",
    "    # 2. If the outcome of the roulette is any of the selected numbers, then you win m units\n",
    "    if outcome > 18:\n",
    "        pay = units\n",
    "    else:\n",
    "    # 3. If the outcome of the roulette is any number between 0 and 18 (inclusive) then you lose m units\n",
    "        pay = -units\n",
    "    return pay"
   ]
  },
  {
   "cell_type": "code",
   "execution_count": 8,
   "metadata": {},
   "outputs": [],
   "source": [
    "payoff = np.vectorize(payoff)"
   ]
  },
  {
   "cell_type": "code",
   "execution_count": 26,
   "metadata": {},
   "outputs": [
    {
     "name": "stdout",
     "output_type": "stream",
     "text": [
      "[29 36 11  6 11  6  1 24 30 13  0 35  7 34 30  7 36 32 12 10]\n",
      "[ 1  1 -1 -1 -1 -1 -1  1  1 -1 -1  1 -1  1  1 -1  1  1 -1 -1]\n"
     ]
    }
   ],
   "source": [
    "outcomes = roulette(20)\n",
    "payoffs = payoff(outcomes)\n",
    "\n",
    "print(outcomes)\n",
    "print(payoffs)"
   ]
  },
  {
   "cell_type": "code",
   "execution_count": 32,
   "metadata": {},
   "outputs": [],
   "source": [
    "number_of_games = int(1e6)\n",
    "outcomes = roulette(number_of_games)\n",
    "payoffs = payoff(outcomes)"
   ]
  },
  {
   "cell_type": "code",
   "execution_count": 33,
   "metadata": {},
   "outputs": [
    {
     "data": {
      "text/plain": [
       "-0.02762"
      ]
     },
     "execution_count": 33,
     "metadata": {},
     "output_type": "execute_result"
    }
   ],
   "source": [
    "np.mean(payoffs)"
   ]
  },
  {
   "cell_type": "code",
   "execution_count": null,
   "metadata": {},
   "outputs": [],
   "source": []
  }
 ],
 "metadata": {
  "kernelspec": {
   "display_name": "Python 3",
   "language": "python",
   "name": "python3"
  },
  "language_info": {
   "codemirror_mode": {
    "name": "ipython",
    "version": 3
   },
   "file_extension": ".py",
   "mimetype": "text/x-python",
   "name": "python",
   "nbconvert_exporter": "python",
   "pygments_lexer": "ipython3",
   "version": "3.7.5"
  }
 },
 "nbformat": 4,
 "nbformat_minor": 2
}
