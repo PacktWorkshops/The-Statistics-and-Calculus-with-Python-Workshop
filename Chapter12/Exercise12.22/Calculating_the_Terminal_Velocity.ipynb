{
 "cells": [
  {
   "cell_type": "code",
   "execution_count": 4,
   "metadata": {},
   "outputs": [
    {
     "name": "stdout",
     "output_type": "stream",
     "text": [
      "v: -0.8\n",
      "v: -34.1\n",
      "v: -48.6\n",
      "v: -52.6\n",
      "v: -53.6\n",
      "v: -53.8\n",
      "v: -53.9\n",
      "v: -53.9\n",
      "v: -53.9\n",
      "v: -53.9\n"
     ]
    }
   ],
   "source": [
    "def force(v,mass,g,k,inc):\n",
    "    \"\"\"Returns the downward force on a\n",
    "    projectile\"\"\"\n",
    "    gravity = mass*g*inc\n",
    "    drag = k*(v**2)*inc\n",
    "    if v > 0:\n",
    "        return gravity + drag\n",
    "    return gravity - drag\n",
    "\n",
    "def height(v0,h0):  \n",
    "    \"\"\"Calculates the velocity of a projectile given the   \n",
    "    initial height and velocity and the elapsed time.\"\"\"  \n",
    "    inc = 0.001 \n",
    "    v,h = v0,h0  \n",
    "    t = 0 \n",
    "    for i in range(500):  \n",
    "        v -= force(v,80,9.8,0.27,inc) \n",
    "        h += v*inc \n",
    "        if i % 50 == 0: \n",
    "            print(\"v:\",round(v,1)) \n",
    "        t += inc  \n",
    " \n",
    "height(0,3000)"
   ]
  },
  {
   "cell_type": "code",
   "execution_count": null,
   "metadata": {},
   "outputs": [],
   "source": []
  }
 ],
 "metadata": {
  "kernelspec": {
   "display_name": "Python 3",
   "language": "python",
   "name": "python3"
  },
  "language_info": {
   "codemirror_mode": {
    "name": "ipython",
    "version": 3
   },
   "file_extension": ".py",
   "mimetype": "text/x-python",
   "name": "python",
   "nbconvert_exporter": "python",
   "pygments_lexer": "ipython3",
   "version": "3.7.3"
  }
 },
 "nbformat": 4,
 "nbformat_minor": 2
}
