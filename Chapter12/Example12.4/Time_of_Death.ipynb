{
 "cells": [
  {
   "cell_type": "code",
   "execution_count": 1,
   "metadata": {},
   "outputs": [
    {
     "name": "stdout",
     "output_type": "stream",
     "text": [
      "-0.4054651081078191\n"
     ]
    }
   ],
   "source": [
    "from math import e\n",
    "\n",
    "def pert(P,r,t):\n",
    "    return P*e**(r*t)\n",
    "\n",
    "def average(a,b):\n",
    "    return (a+b)/2\n",
    "\n",
    "def bin_search(f,lower,upper,target):\n",
    "    for i in range(40):\n",
    "        avg = average(lower,upper)\n",
    "        guess = f(15,avg,1)\n",
    "        if guess == target:\n",
    "            return guess\n",
    "        if guess > target:\n",
    "            upper = avg\n",
    "        else:\n",
    "            lower = avg\n",
    "    return avg\n",
    "\n",
    "print(bin_search(pert,-2,0,10))"
   ]
  },
  {
   "cell_type": "code",
   "execution_count": 2,
   "metadata": {},
   "outputs": [
    {
     "name": "stdout",
     "output_type": "stream",
     "text": [
      "2.9887570258370033\n"
     ]
    }
   ],
   "source": [
    "def bin_search(f,lower,upper,target): \n",
    "    for i in range(40): \n",
    "        avg = average(lower,upper) \n",
    "        guess = f(33.6,-.4055,avg) \n",
    "        if guess == target: \n",
    "            return guess \n",
    "        if guess > target: \n",
    "            upper = avg \n",
    "        else: \n",
    "            lower = avg \n",
    "    return avg\n",
    "\n",
    "print(bin_search(pert,5,0,10)) "
   ]
  },
  {
   "cell_type": "code",
   "execution_count": 3,
   "metadata": {},
   "outputs": [
    {
     "data": {
      "text/plain": [
       "9.954513505592326"
      ]
     },
     "execution_count": 3,
     "metadata": {},
     "output_type": "execute_result"
    }
   ],
   "source": [
    "pert(33.6,-0.4055,3) "
   ]
  },
  {
   "cell_type": "code",
   "execution_count": null,
   "metadata": {},
   "outputs": [],
   "source": []
  }
 ],
 "metadata": {
  "kernelspec": {
   "display_name": "Python 3",
   "language": "python",
   "name": "python3"
  },
  "language_info": {
   "codemirror_mode": {
    "name": "ipython",
    "version": 3
   },
   "file_extension": ".py",
   "mimetype": "text/x-python",
   "name": "python",
   "nbconvert_exporter": "python",
   "pygments_lexer": "ipython3",
   "version": "3.7.3"
  }
 },
 "nbformat": 4,
 "nbformat_minor": 2
}
