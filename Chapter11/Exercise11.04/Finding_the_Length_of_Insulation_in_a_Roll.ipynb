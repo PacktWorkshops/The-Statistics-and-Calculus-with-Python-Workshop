{
 "cells": [
  {
   "cell_type": "code",
   "execution_count": 3,
   "metadata": {},
   "outputs": [
    {
     "data": {
      "text/plain": [
       "1107.502879450013"
      ]
     },
     "execution_count": 3,
     "metadata": {},
     "output_type": "execute_result"
    }
   ],
   "source": [
    "from math import sqrt,cos,pi\n",
    "\n",
    "def opposite(a,b,C):\n",
    "    '''Returns the side opposite the given angle in\n",
    "    a triangle using the Law of Cosines\n",
    "    Enter side, side, angle'''\n",
    "    c = sqrt(a**2 + b**2 - 2*a*b*cos(C))\n",
    "    return c\n",
    "\n",
    "def spiral(r,a,b,step=0.0001):\n",
    "    \"\"\"Returns length of spiral r from\n",
    "    a to b taking given step size\"\"\"\n",
    "    length = 0\n",
    "    theta = a\n",
    "    while theta < b:\n",
    "        length += opposite(r(theta),r(theta+step),step)\n",
    "        theta += step\n",
    "    return length\n",
    "\n",
    "def r(theta):\n",
    "    return 2 + 0.0745*theta\n",
    "\n",
    "spiral(r,0,2*pi*23.5)\n"
   ]
  },
  {
   "cell_type": "code",
   "execution_count": null,
   "metadata": {},
   "outputs": [],
   "source": []
  }
 ],
 "metadata": {
  "kernelspec": {
   "display_name": "Python 3",
   "language": "python",
   "name": "python3"
  },
  "language_info": {
   "codemirror_mode": {
    "name": "ipython",
    "version": 3
   },
   "file_extension": ".py",
   "mimetype": "text/x-python",
   "name": "python",
   "nbconvert_exporter": "python",
   "pygments_lexer": "ipython3",
   "version": "3.7.3"
  }
 },
 "nbformat": 4,
 "nbformat_minor": 2
}
