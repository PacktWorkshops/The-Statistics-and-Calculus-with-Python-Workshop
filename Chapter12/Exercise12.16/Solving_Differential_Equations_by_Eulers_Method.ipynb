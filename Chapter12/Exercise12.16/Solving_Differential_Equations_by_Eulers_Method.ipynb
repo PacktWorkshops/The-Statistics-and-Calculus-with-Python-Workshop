{
 "cells": [
  {
   "cell_type": "code",
   "execution_count": 1,
   "metadata": {
    "scrolled": true
   },
   "outputs": [
    {
     "name": "stdout",
     "output_type": "stream",
     "text": [
      "0.5 1.5\n",
      "1.0 2.25\n",
      "1.5 3.375\n",
      "2.0 5.0625\n",
      "5.0625\n"
     ]
    }
   ],
   "source": [
    "def euler(x0,y0,target_x,stepsize):\n",
    "    x,y = x0,y0\n",
    "    while x<target_x:\n",
    "        slope = y #from diff eq\n",
    "        x += stepsize\n",
    "        y += stepsize*slope\n",
    "        print(x,y)\n",
    "    return y\n",
    "\n",
    "print(euler(0,1,2,0.5))\n",
    "\n",
    "# for n in [0.5**i for i in range(10)]:\n",
    "#     print(n,euler(0,1,2,n))\n"
   ]
  },
  {
   "cell_type": "code",
   "execution_count": 1,
   "metadata": {},
   "outputs": [
    {
     "name": "stdout",
     "output_type": "stream",
     "text": [
      "1.0 4.0\n",
      "0.5 5.0625\n",
      "0.25 5.9604644775390625\n",
      "0.125 6.583250172027423\n",
      "0.0625 6.958666757218805\n",
      "0.03125 7.166276152788222\n",
      "0.015625 7.275669793128417\n",
      "0.0078125 7.3318505987410365\n",
      "0.00390625 7.3603235532692795\n",
      "0.001953125 7.374657160341845\n"
     ]
    }
   ],
   "source": [
    "def euler(x0,y0,target_x,stepsize):\n",
    "    x,y = x0,y0\n",
    "    while x<target_x:\n",
    "        slope = y #from diff eq\n",
    "        x += stepsize\n",
    "        y += stepsize*slope\n",
    "        #print(x,y)\n",
    "    return y\n",
    "\n",
    "for n in [0.5**i for i in range(10)]: \n",
    "    print(n,euler(0,1,2,n)) "
   ]
  },
  {
   "cell_type": "code",
   "execution_count": null,
   "metadata": {},
   "outputs": [],
   "source": []
  }
 ],
 "metadata": {
  "kernelspec": {
   "display_name": "Python 3",
   "language": "python",
   "name": "python3"
  },
  "language_info": {
   "codemirror_mode": {
    "name": "ipython",
    "version": 3
   },
   "file_extension": ".py",
   "mimetype": "text/x-python",
   "name": "python",
   "nbconvert_exporter": "python",
   "pygments_lexer": "ipython3",
   "version": "3.7.3"
  }
 },
 "nbformat": 4,
 "nbformat_minor": 2
}
