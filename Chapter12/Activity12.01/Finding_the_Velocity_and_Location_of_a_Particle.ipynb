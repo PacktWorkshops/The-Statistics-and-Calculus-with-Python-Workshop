{
 "cells": [
  {
   "cell_type": "code",
   "execution_count": 2,
   "metadata": {},
   "outputs": [
    {
     "name": "stdout",
     "output_type": "stream",
     "text": [
      "0.0 12.622064772118447\n",
      "0.05 13.020784091510926\n",
      "0.1 13.402443999259376\n",
      "0.15000000000000002 13.759527160695216\n",
      "0.2 14.082433798771202\n",
      "0.25 14.359342342802455\n",
      "0.3 14.576153074047125\n",
      "0.35 14.716554029850377\n",
      "0.39999999999999997 14.762256787020583\n",
      "0.44999999999999996 14.693457298406758\n",
      "0.49999999999999994 14.489582221121116\n",
      "0.5499999999999999 14.130382029753045\n",
      "0.6 13.597425801421842\n",
      "0.65 12.87603528636048\n",
      "0.7000000000000001 11.957663493374776\n",
      "0.7500000000000001 10.842670981573342\n",
      "0.8000000000000002 9.543377202385217\n",
      "0.8500000000000002 8.08716196940009\n",
      "0.9000000000000002 6.519264144321089\n",
      "0.9500000000000003 4.904777350107333\n",
      "1.0000000000000002 3.3291911769931715\n",
      "1.0500000000000003 1.8966982923409172\n",
      "1.1000000000000003 0.7254255490661741\n",
      "1.1500000000000004 -0.06119060343046955\n",
      "1.2000000000000004 -0.3474047235245454\n",
      "1.2500000000000004 -0.04252527324380706\n",
      "1.3000000000000005 0.8982461584089145\n",
      "1.3500000000000005 2.4516137491656442\n",
      "1.4000000000000006 4.5062509856573225\n",
      "1.4500000000000006 6.850332845507693\n"
     ]
    }
   ],
   "source": [
    "from math import sqrt,sin,cos,e\n",
    "\n",
    "def dx(t):\n",
    "    return 1 + 3*sin(t**2) \n",
    "\n",
    "def dy(t):\n",
    "    return 15*cos(t**2)*sin(e**t)\n",
    "\n",
    "t = 0.0 \n",
    "while t<=1.5: \n",
    "    print(t,dy(t)) \n",
    "    t += 0.05 \n",
    "\n"
   ]
  },
  {
   "cell_type": "code",
   "execution_count": 3,
   "metadata": {},
   "outputs": [
    {
     "name": "stdout",
     "output_type": "stream",
     "text": [
      "1.144729885849438\n"
     ]
    }
   ],
   "source": [
    "def bin_search(f,lower,upper,target): \n",
    "    def average(a,b): \n",
    "        return (a+b)/2 \n",
    "    for i in range(40): \n",
    "        avg = average(lower,upper) \n",
    "        guess = f(avg) \n",
    "        if guess == target: \n",
    "            return guess \n",
    "        if guess < target: \n",
    "            upper = avg \n",
    "        else: \n",
    "            lower = avg \n",
    "    return avg \n",
    " \n",
    "print(bin_search(dy,1.1,1.15,0)) "
   ]
  },
  {
   "cell_type": "code",
   "execution_count": 5,
   "metadata": {},
   "outputs": [
    {
     "name": "stdout",
     "output_type": "stream",
     "text": [
      "1.2533141373155103\n"
     ]
    }
   ],
   "source": [
    "def bin_search(f,lower,upper,target): \n",
    "    def average(a,b): \n",
    "        return (a+b)/2 \n",
    "    for i in range(40): \n",
    "        avg = average(lower,upper) \n",
    "        guess = f(avg) \n",
    "        if guess == target: \n",
    "            return guess \n",
    "        if guess > target: \n",
    "            upper = avg \n",
    "        else: \n",
    "            lower = avg \n",
    "    return avg \n",
    "\n",
    "print(bin_search(dy,1.25,1.3,0)) "
   ]
  },
  {
   "cell_type": "code",
   "execution_count": 6,
   "metadata": {},
   "outputs": [
    {
     "name": "stdout",
     "output_type": "stream",
     "text": [
      "1.145 (0.4740617265786189, 15.338128944560578)\n",
      "1.253 (0.9023867438757808, 15.313033269941062)\n"
     ]
    }
   ],
   "source": [
    "def position(x0,y0,t):\n",
    "    \"\"\"Calculates the height a projectile given the \n",
    "    initial height and velocity and the elapsed time.\"\"\"\n",
    "    inc = 0.001\n",
    "    elapsed = 0\n",
    "    vx,vy = dx(0),dy(0)\n",
    "    x,y = x0,y0\n",
    "    while elapsed <= t:\n",
    "    #for i in range(int(t/inc)):\n",
    "        vx,vy = dx(elapsed),dy(elapsed)\n",
    "        x += vx*inc\n",
    "        y += vy*inc\n",
    "        elapsed += inc\n",
    "    return x,y\n",
    "\n",
    "\n",
    "times = [1.145,1.253] \n",
    "for t in times: \n",
    "    print(t,position(-2,3,t)) "
   ]
  },
  {
   "cell_type": "code",
   "execution_count": 7,
   "metadata": {},
   "outputs": [
    {
     "data": {
      "text/plain": [
       "4.848195599011939"
      ]
     },
     "execution_count": 7,
     "metadata": {},
     "output_type": "execute_result"
    }
   ],
   "source": [
    "def speed(t): \n",
    "    return sqrt(dx(t)**2+dy(t)**2) \n",
    "\n",
    "speed(1.0) "
   ]
  },
  {
   "cell_type": "code",
   "execution_count": null,
   "metadata": {},
   "outputs": [],
   "source": []
  }
 ],
 "metadata": {
  "kernelspec": {
   "display_name": "Python 3",
   "language": "python",
   "name": "python3"
  },
  "language_info": {
   "codemirror_mode": {
    "name": "ipython",
    "version": 3
   },
   "file_extension": ".py",
   "mimetype": "text/x-python",
   "name": "python",
   "nbconvert_exporter": "python",
   "pygments_lexer": "ipython3",
   "version": "3.7.3"
  }
 },
 "nbformat": 4,
 "nbformat_minor": 2
}
