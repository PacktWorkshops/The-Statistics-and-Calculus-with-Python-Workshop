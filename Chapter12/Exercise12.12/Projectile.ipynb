{
 "cells": [
  {
   "cell_type": "code",
   "execution_count": 2,
   "metadata": {},
   "outputs": [
    {
     "name": "stdout",
     "output_type": "stream",
     "text": [
      "1.2533141373155103\n",
      "(0.031374484385746366, 14.515587014923222)\n"
     ]
    }
   ],
   "source": [
    "from math import sqrt,sin,cos,e\n",
    "\n",
    "def dx(t):\n",
    "    return 1 + 2*sin(t**2) \n",
    "\n",
    "def dy(t):\n",
    "    return 14*cos(t**2)*sin(e**t)\n",
    "\n",
    "def position(x0,y0,t):\n",
    "    \"\"\"Calculates the height a projectile given the \n",
    "    initial height and velocity and the elapsed time.\"\"\"\n",
    "    inc = 0.001\n",
    "    elapsed = 0\n",
    "    vx,vy = dx(0),dy(0)\n",
    "    x,y = x0,y0\n",
    "    while elapsed <= t:\n",
    "    #for i in range(int(t/inc)):\n",
    "        vx,vy = dx(elapsed),dy(elapsed)\n",
    "        x += vx*inc\n",
    "        y += vy*inc\n",
    "        elapsed += inc\n",
    "    return x,y\n",
    "\n",
    "def bin_search(f,lower,upper,target):\n",
    "    def average(a,b):\n",
    "        return (a+b)/2\n",
    "    for i in range(40):\n",
    "        avg = average(lower,upper)\n",
    "        guess = f(avg)\n",
    "        if guess == target:\n",
    "            return guess\n",
    "        if guess > target:\n",
    "            upper = avg\n",
    "        else:\n",
    "            lower = avg\n",
    "    return avg\n",
    "\n",
    "print(bin_search(dy,1.25,1.3,0))\n",
    "print(position(-2,3,1.145))"
   ]
  },
  {
   "cell_type": "code",
   "execution_count": null,
   "metadata": {},
   "outputs": [],
   "source": []
  }
 ],
 "metadata": {
  "kernelspec": {
   "display_name": "Python 3",
   "language": "python",
   "name": "python3"
  },
  "language_info": {
   "codemirror_mode": {
    "name": "ipython",
    "version": 3
   },
   "file_extension": ".py",
   "mimetype": "text/x-python",
   "name": "python",
   "nbconvert_exporter": "python",
   "pygments_lexer": "ipython3",
   "version": "3.7.3"
  }
 },
 "nbformat": 4,
 "nbformat_minor": 2
}
